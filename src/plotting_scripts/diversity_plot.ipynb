{
 "cells": [
  {
   "cell_type": "code",
   "execution_count": 12,
   "metadata": {},
   "outputs": [
    {
     "name": "stdout",
     "output_type": "stream",
     "text": [
      "[0. 0. 0. 1. 0. 0. 0. 0. 0. 1. 1. 0. 0. 0.]\n"
     ]
    }
   ],
   "source": [
    "import numpy as np\n",
    "\n",
    "class BinaryFeaturesGenerator:\n",
    "    \"\"\"Binary distribution user state generator\"\"\"\n",
    "\n",
    "    def __init__(self):\n",
    "        pass\n",
    "\n",
    "    def __call__(self, num_features: int):\n",
    "        if num_features <= 0:\n",
    "            raise ValueError(\"num_features must be a positive integer\")\n",
    "        \n",
    "        # Generate a random number of 1's between 0 and num_features\n",
    "        # num_ones = np.random.randint(0, num_features + 1)\n",
    "        num_ones=3\n",
    "\n",
    "        # Create a user vector with random 1's and 0's\n",
    "        user_vector = np.zeros(num_features, dtype=np.float32)\n",
    "        if num_ones > 0:\n",
    "            # Randomly select the positions for 1's\n",
    "            one_positions = np.random.choice(num_features, num_ones, replace=False)\n",
    "            user_vector[one_positions] = 1\n",
    "\n",
    "        return user_vector\n",
    "\n",
    "# Example usage:\n",
    "num_features = 14\n",
    "binary_generator = BinaryFeaturesGenerator()\n",
    "user_vector = binary_generator(num_features)\n",
    "print(user_vector)\n"
   ]
  },
  {
   "cell_type": "code",
   "execution_count": 1,
   "metadata": {},
   "outputs": [
    {
     "name": "stderr",
     "output_type": "stream",
     "text": [
      "/home/aayush/.cache/pypoetry/virtualenvs/rl-recsys-J7QfXvqm-py3.10/lib/python3.10/site-packages/tqdm/auto.py:21: TqdmWarning: IProgress not found. Please update jupyter and ipywidgets. See https://ipywidgets.readthedocs.io/en/stable/user_install.html\n",
      "  from .autonotebook import tqdm as notebook_tqdm\n"
     ]
    }
   ],
   "source": [
    "import os \n",
    "from pathlib import Path\n",
    "from dotenv import load_dotenv\n",
    "import pickle\n",
    "import pandas as pd\n",
    "import torch\n",
    "from tqdm import tqdm\n",
    "import seaborn as sns"
   ]
  },
  {
   "cell_type": "code",
   "execution_count": 2,
   "metadata": {},
   "outputs": [
    {
     "data": {
      "text/plain": [
       "True"
      ]
     },
     "execution_count": 2,
     "metadata": {},
     "output_type": "execute_result"
    }
   ],
   "source": [
    "load_dotenv()"
   ]
  },
  {
   "cell_type": "code",
   "execution_count": 3,
   "metadata": {},
   "outputs": [],
   "source": [
    "base_path = Path.home()/Path(os.environ.get(\"SAVE_PATH\"))"
   ]
  },
  {
   "cell_type": "code",
   "execution_count": 16,
   "metadata": {},
   "outputs": [],
   "source": [
    "# loading slateq results\n",
    "ALPHA = 0.25\n",
    "SEEDS = [5, 7, 46, 53, 77]\n",
    "SEEDS1 = [5, 46, 53, 77]\n",
    "SEEDS2 = [5, 53, 77]"
   ]
  },
  {
   "cell_type": "code",
   "execution_count": 17,
   "metadata": {},
   "outputs": [],
   "source": [
    "def parse_data(data_dict: dict, alg_nam:str, seed: int)->pd.DataFrame:\n",
    "    # convert from torch to float\n",
    "    for k, v in data_dict.items():\n",
    "        if isinstance(v, torch.Tensor):\n",
    "            data_dict[k] = v.item()\n",
    "        elif isinstance(v, list):\n",
    "            if isinstance(v[0], torch.Tensor):\n",
    "                data_dict[k] = [x.item() for x in v]\n",
    "    data_df = pd.DataFrame(data_dict)\n",
    "    data_df[\"alg_name\"] = alg_nam\n",
    "    data_df[\"seed\"] = seed\n",
    "    data_df = data_df.reset_index().rename(columns={\"index\": \"episode\"})\n",
    "    data_df[\"exploration\"]=data_df[\"exploration\"]\n",
    "    data_df[\"diversity\"]=data_df[\"diversity\"]\n",
    "    return data_df"
   ]
  },
  {
   "cell_type": "code",
   "execution_count": 18,
   "metadata": {},
   "outputs": [
    {
     "name": "stderr",
     "output_type": "stream",
     "text": [
      "100%|██████████| 5/5 [00:00<00:00, 55.26it/s]\n"
     ]
    }
   ],
   "source": [
    "# load slateq results\n",
    "res_df_list = []\n",
    "for seed in tqdm(SEEDS):\n",
    "    slateq_dict = pickle.load(open(base_path / Path(f\"diversity_slateq_300_{seed}\")/ \"logs_dict.pickle\", \"rb\"))\n",
    "    res_df = parse_data(slateq_dict, \"SlateQ\", seed)\n",
    "    res_df_list.append(res_df)\n",
    "# concat all results\n",
    "final_df = pd.concat(res_df_list)"
   ]
  },
  {
   "cell_type": "code",
   "execution_count": 19,
   "metadata": {},
   "outputs": [
    {
     "name": "stderr",
     "output_type": "stream",
     "text": [
      "100%|██████████| 4/4 [00:00<00:00, 52.95it/s]\n"
     ]
    }
   ],
   "source": [
    "# load wp results\n",
    "res_df_list = []\n",
    "for seed in tqdm(SEEDS1):\n",
    "    for knearest in [20]:\n",
    "        slateq_dict = pickle.load(open(base_path / Path(f\"diversity_proto_slate_300_{knearest}_{seed}\")/ \"logs_dict.pickle\", \"rb\"))\n",
    "        res_df = parse_data(slateq_dict, f\"Proto-Slate {knearest}%\", seed)\n",
    "        res_df_list.append(res_df)\n",
    "# concat all results\n",
    "# final_df = pd.concat(res_df_list)\n",
    "wp_slate_df = pd.concat(res_df_list)\n",
    "final_df = pd.concat([final_df, wp_slate_df])"
   ]
  },
  {
   "cell_type": "code",
   "execution_count": 20,
   "metadata": {},
   "outputs": [
    {
     "name": "stderr",
     "output_type": "stream",
     "text": [
      "100%|██████████| 3/3 [00:00<00:00, 84.02it/s]\n"
     ]
    }
   ],
   "source": [
    "# load wp results\n",
    "res_df_list = []\n",
    "for seed in tqdm(SEEDS2):\n",
    "    for knearest in [20]:\n",
    "        slateq_dict = pickle.load(open(base_path / Path(f\"diversity_proto_item_300_{knearest}_{seed}\")/ \"logs_dict.pickle\", \"rb\"))\n",
    "        res_df = parse_data(slateq_dict, f\"Proto-Item {knearest}%\", seed)\n",
    "        res_df_list.append(res_df)\n",
    "# concat all results\n",
    "# final_df = pd.concat(res_df_list)\n",
    "wp_df = pd.concat(res_df_list)\n",
    "final_df = pd.concat([final_df, wp_df])"
   ]
  },
  {
   "cell_type": "code",
   "execution_count": 21,
   "metadata": {},
   "outputs": [
    {
     "data": {
      "image/png": "[encoded data removed]",
      "text/plain": [
       "<Figure size 425.073x276.297 with 1 Axes>"
      ]
     },
     "metadata": {},
     "output_type": "display_data"
    }
   ],
   "source": [
    "import seaborn as sns\n",
    "import matplotlib.pyplot as plt\n",
    "import matplotlib.ticker as mtick\n",
    "from setup_plot import setup_plot\n",
    "\n",
    "setup_plot(font_size=8, w_pts=256, fig_ratio=0.65)\n",
    "\n",
    "# Set the plot style to \"ticks\"\n",
    "sns.set_style(\"whitegrid\", {\"grid.linestyle\": \"--\", \"axes.edgecolor\": \"black\"})\n",
    "\n",
    "# Plot the mean of ep_cum_satisfaction across different seeds for each alg_name\n",
    "ax = sns.lineplot(x=\"episode\", y=\"diversity\", hue=\"alg_name\", errorbar=\"sd\", data=final_df, palette=[\"#1f77b4\", \"#2ca02c\",\"#ff7f0e\", ])\n",
    "\n",
    "legend = plt.legend(title='', fancybox=False, loc='upper left', fontsize='x-small')\n",
    "# legend.get_frame().set_alpha(None)\n",
    "\n",
    "# Set the x-axis tick format\n",
    "fmt = mtick.ScalarFormatter(useMathText=True)\n",
    "fmt.set_powerlimits((-3,3))\n",
    "ax.xaxis.set_major_formatter(fmt)\n",
    "\n",
    "# Add a title and axes labels\n",
    "plt.xlim(0, 60)\n",
    "plt.xlabel(\"Steps\")\n",
    "plt.ylabel(\"Slate diversity \", labelpad=0)\n",
    "# plt.savefig(\"convergence_plot_2000.pdf\", format=\"pdf\", bbox_inches=\"tight\")\n",
    "plt.show()"
   ]
  },
  {
   "cell_type": "code",
   "execution_count": 265,
   "metadata": {},
   "outputs": [
    {
     "data": {
      "text/html": [
       "<div>\n",
       "<style scoped>\n",
       "    .dataframe tbody tr th:only-of-type {\n",
       "        vertical-align: middle;\n",
       "    }\n",
       "\n",
       "    .dataframe tbody tr th {\n",
       "        vertical-align: top;\n",
       "    }\n",
       "\n",
       "    .dataframe thead th {\n",
       "        text-align: right;\n",
       "    }\n",
       "</style>\n",
       "<table border=\"1\" class=\"dataframe\">\n",
       "  <thead>\n",
       "    <tr style=\"text-align: right;\">\n",
       "      <th></th>\n",
       "      <th>episode</th>\n",
       "      <th>exploration</th>\n",
       "      <th>diversity</th>\n",
       "      <th>alg_name</th>\n",
       "      <th>seed</th>\n",
       "    </tr>\n",
       "  </thead>\n",
       "  <tbody>\n",
       "    <tr>\n",
       "      <th>58</th>\n",
       "      <td>58</td>\n",
       "      <td>0.45</td>\n",
       "      <td>1</td>\n",
       "      <td>SlateQ</td>\n",
       "      <td>7</td>\n",
       "    </tr>\n",
       "    <tr>\n",
       "      <th>58</th>\n",
       "      <td>58</td>\n",
       "      <td>0.45</td>\n",
       "      <td>1</td>\n",
       "      <td>SlateQ</td>\n",
       "      <td>77</td>\n",
       "    </tr>\n",
       "    <tr>\n",
       "      <th>58</th>\n",
       "      <td>58</td>\n",
       "      <td>0.40</td>\n",
       "      <td>3</td>\n",
       "      <td>Proto-Slate 20%</td>\n",
       "      <td>53</td>\n",
       "    </tr>\n",
       "    <tr>\n",
       "      <th>58</th>\n",
       "      <td>58</td>\n",
       "      <td>0.40</td>\n",
       "      <td>2</td>\n",
       "      <td>Proto-Slate 20%</td>\n",
       "      <td>77</td>\n",
       "    </tr>\n",
       "    <tr>\n",
       "      <th>58</th>\n",
       "      <td>58</td>\n",
       "      <td>0.20</td>\n",
       "      <td>1</td>\n",
       "      <td>Proto-Item 20%</td>\n",
       "      <td>5</td>\n",
       "    </tr>\n",
       "    <tr>\n",
       "      <th>58</th>\n",
       "      <td>58</td>\n",
       "      <td>0.20</td>\n",
       "      <td>1</td>\n",
       "      <td>Proto-Item 20%</td>\n",
       "      <td>53</td>\n",
       "    </tr>\n",
       "    <tr>\n",
       "      <th>58</th>\n",
       "      <td>58</td>\n",
       "      <td>0.15</td>\n",
       "      <td>1</td>\n",
       "      <td>Proto-Item 20%</td>\n",
       "      <td>77</td>\n",
       "    </tr>\n",
       "  </tbody>\n",
       "</table>\n",
       "</div>"
      ],
      "text/plain": [
       "    episode  exploration  diversity         alg_name  seed\n",
       "58       58         0.45          1           SlateQ     7\n",
       "58       58         0.45          1           SlateQ    77\n",
       "58       58         0.40          3  Proto-Slate 20%    53\n",
       "58       58         0.40          2  Proto-Slate 20%    77\n",
       "58       58         0.20          1   Proto-Item 20%     5\n",
       "58       58         0.20          1   Proto-Item 20%    53\n",
       "58       58         0.15          1   Proto-Item 20%    77"
      ]
     },
     "execution_count": 265,
     "metadata": {},
     "output_type": "execute_result"
    }
   ],
   "source": [
    "final_df[final_df[\"episode\"]==58]\n"
   ]
  }
 ],
 "metadata": {
  "kernelspec": {
   "display_name": "rl-recsys-J7QfXvqm-py3.10",
   "language": "python",
   "name": "python3"
  },
  "language_info": {
   "codemirror_mode": {
    "name": "ipython",
    "version": 3
   },
   "file_extension": ".py",
   "mimetype": "text/x-python",
   "name": "python",
   "nbconvert_exporter": "python",
   "pygments_lexer": "ipython3",
   "version": "3.10.6"
  },
  "orig_nbformat": 4
 },
 "nbformat": 4,
 "nbformat_minor": 2
}
