{
 "cells": [
  {
   "cell_type": "code",
   "execution_count": 24,
   "metadata": {},
   "outputs": [],
   "source": [
    "import os \n",
    "from pathlib import Path\n",
    "from dotenv import load_dotenv\n",
    "import pickle\n",
    "import pandas as pd\n",
    "import torch\n",
    "from tqdm import tqdm\n",
    "import seaborn as sns"
   ]
  },
  {
   "cell_type": "code",
   "execution_count": 25,
   "metadata": {},
   "outputs": [
    {
     "data": {
      "text/plain": [
       "True"
      ]
     },
     "execution_count": 25,
     "metadata": {},
     "output_type": "execute_result"
    }
   ],
   "source": [
    "load_dotenv()\n"
   ]
  },
  {
   "cell_type": "code",
   "execution_count": 26,
   "metadata": {},
   "outputs": [],
   "source": [
    "base_path = Path.home()/Path(os.environ.get(\"SAVE_PATH\"))"
   ]
  },
  {
   "cell_type": "code",
   "execution_count": 27,
   "metadata": {},
   "outputs": [],
   "source": [
    "# loading slateq results\n",
    "ALPHA = 0.25\n",
    "SEEDS = [42, 5, 7, 97, 53]"
   ]
  },
  {
   "cell_type": "code",
   "execution_count": 28,
   "metadata": {},
   "outputs": [],
   "source": [
    "def parse_data(data_dict: dict, alg_nam:str, seed: int)->pd.DataFrame:\n",
    "    # convert from torch to float\n",
    "    for k, v in data_dict.items():\n",
    "        if isinstance(v, torch.Tensor):\n",
    "            data_dict[k] = v.item()\n",
    "        elif isinstance(v, list):\n",
    "            if isinstance(v[0], torch.Tensor):\n",
    "                data_dict[k] = [x.item() for x in v]\n",
    "    data_df = pd.DataFrame(data_dict)\n",
    "    data_df[\"alg_name\"] = alg_nam\n",
    "    data_df[\"seed\"] = seed\n",
    "    data_df = data_df.reset_index().rename(columns={\"index\": \"episode\"})\n",
    "    \n",
    "    return data_df"
   ]
  },
  {
   "cell_type": "code",
   "execution_count": 29,
   "metadata": {},
   "outputs": [
    {
     "name": "stderr",
     "output_type": "stream",
     "text": [
      "100%|██████████| 5/5 [00:00<00:00, 18.11it/s]\n"
     ]
    }
   ],
   "source": [
    "# load slateq results\n",
    "res_df_list = []\n",
    "for seed in tqdm(SEEDS):\n",
    "    slateq_dict = pickle.load(open(base_path / Path(f\"test_serving_observed_topic_slateq_2000_{seed}\")/ \"logs_dict.pickle\", \"rb\"))\n",
    "    res_df = parse_data(slateq_dict, \"SlateQ\", seed)\n",
    "    res_df_list.append(res_df)\n",
    "# concat all results\n",
    "final_df = pd.concat(res_df_list)"
   ]
  },
  {
   "cell_type": "code",
   "execution_count": 30,
   "metadata": {},
   "outputs": [
    {
     "name": "stderr",
     "output_type": "stream",
     "text": [
      "100%|██████████| 5/5 [00:00<00:00,  5.65it/s]\n"
     ]
    }
   ],
   "source": [
    "# load wp results\n",
    "res_df_list = []\n",
    "\n",
    "for seed in tqdm(SEEDS):\n",
    "    for knearest in [20, 10, 5]:\n",
    "        slateq_dict = pickle.load(open(base_path / Path(f\"test_wa_{knearest}_serving_observed_topic_slateq_2000_{seed}\")/ \"logs_dict.pickle\", \"rb\"))\n",
    "        res_df = parse_data(slateq_dict, f\"Slate-Wolpertinger {knearest}%\", seed)\n",
    "        res_df_list.append(res_df)\n",
    "# concat all results\n",
    "wp_df = pd.concat(res_df_list)\n",
    "final_df = pd.concat([final_df, wp_df])"
   ]
  },
  {
   "cell_type": "code",
   "execution_count": 31,
   "metadata": {},
   "outputs": [],
   "source": [
    "final_df = final_df.reset_index(drop=True)"
   ]
  },
  {
   "cell_type": "code",
   "execution_count": 32,
   "metadata": {},
   "outputs": [],
   "source": [
    "from scipy.stats import levene\n",
    "from scipy.stats import shapiro\n",
    "from scipy.stats import ttest_rel\n",
    "from scipy.stats import wilcoxon\n",
    "def stat_test(r1,r2):\n",
    "    print(levene(r1, r2))\n",
    "    differences = [a-b for a,b in zip(r1, r2)]\n",
    "    print(shapiro(differences))\n",
    "    print(ttest_rel(r1, r2))\n",
    "    print(wilcoxon(r1, r2))"
   ]
  },
  {
   "cell_type": "markdown",
   "metadata": {},
   "source": [
    "# Statistical tests"
   ]
  },
  {
   "cell_type": "markdown",
   "metadata": {},
   "source": [
    "### SlateQ | WP20"
   ]
  },
  {
   "cell_type": "code",
   "execution_count": 33,
   "metadata": {},
   "outputs": [
    {
     "name": "stdout",
     "output_type": "stream",
     "text": [
      "===== SlateQ | WP20 =====\n",
      "===== Return =====\n",
      "SlateQ 246.198 2.4751335317513714\n",
      "WP 245.04899999999998 4.593331470730145\n",
      "LeveneResult(statistic=0.43250501442492356, pvalue=0.5292266651357699)\n",
      "ShapiroResult(statistic=0.8886706233024597, pvalue=0.35046282410621643)\n",
      "Ttest_relResult(statistic=0.7076558800502115, pvalue=0.5182118022537707)\n",
      "WilcoxonResult(statistic=6.0, pvalue=0.8125)\n",
      "===== Cum satisfaction =====\n",
      "SlateQ 41.9388566827774 2.396559214302558\n",
      "WP 40.74824743986129 4.438687065586514\n",
      "LeveneResult(statistic=0.46465003605320154, pvalue=0.5147040366017046)\n",
      "ShapiroResult(statistic=0.8903428316116333, pvalue=0.35882997512817383)\n",
      "Ttest_relResult(statistic=0.7458550306934277, pvalue=0.49720054930329843)\n",
      "WilcoxonResult(statistic=6.0, pvalue=0.8125)\n",
      "===== Avg satisfaction =====\n",
      "SlateQ 0.6357181721664965 0.048799222117163796\n",
      "WP 0.6083089765775949 0.07378319253194625\n",
      "LeveneResult(statistic=0.21536719728227832, pvalue=0.6549595039825544)\n",
      "ShapiroResult(statistic=0.8867229223251343, pvalue=0.3408930003643036)\n",
      "Ttest_relResult(statistic=1.1969732462538145, pvalue=0.2974055760607052)\n",
      "WilcoxonResult(statistic=3.0, pvalue=0.3125)\n"
     ]
    }
   ],
   "source": [
    "print(\"===== SlateQ | WP20 =====\")\n",
    "sq_return = final_df.groupby([\"alg_name\", \"seed\"]).mean()[\"session_length\"][\"SlateQ\"].values\n",
    "wp_return = final_df.groupby([\"alg_name\", \"seed\"]).mean()[\"session_length\"][\"Slate-Wolpertinger 20%\"].values\n",
    "print(\"===== Return =====\")\n",
    "print(\"SlateQ\",sq_return.mean(), sq_return.std())\n",
    "print(\"WP\",wp_return.mean(), wp_return.std())\n",
    "stat_test(sq_return, wp_return)\n",
    "print(\"===== Cum satisfaction =====\")\n",
    "sq_cum_satisfaction = final_df.groupby([\"alg_name\", \"seed\"]).mean()[\"ep_cum_reward\"][\"SlateQ\"].values\n",
    "wp_cum_satisfaction = final_df.groupby([\"alg_name\", \"seed\"]).mean()[\"ep_cum_reward\"][\"Slate-Wolpertinger 20%\"].values\n",
    "print(\"SlateQ\",sq_cum_satisfaction.mean(), sq_cum_satisfaction.std())\n",
    "print(\"WP\",wp_cum_satisfaction.mean(), wp_cum_satisfaction.std())\n",
    "stat_test(sq_cum_satisfaction, wp_cum_satisfaction)\n",
    "print(\"===== Avg satisfaction =====\")\n",
    "sq_avg_satisfaction = final_df.groupby([\"alg_name\", \"seed\"]).mean()[\"ep_avg_reward\"][\"SlateQ\"].values\n",
    "wp_avg_satisfaction = final_df.groupby([\"alg_name\", \"seed\"]).mean()[\"ep_avg_reward\"][\"Slate-Wolpertinger 20%\"].values\n",
    "print(\"SlateQ\",sq_avg_satisfaction.mean(), sq_avg_satisfaction.std())\n",
    "print(\"WP\",wp_avg_satisfaction.mean(), wp_avg_satisfaction.std())\n",
    "stat_test(sq_avg_satisfaction, wp_avg_satisfaction)"
   ]
  },
  {
   "cell_type": "code",
   "execution_count": 34,
   "metadata": {},
   "outputs": [
    {
     "name": "stdout",
     "output_type": "stream",
     "text": [
      "===== SlateQ | WP10 =====\n",
      "===== Return =====\n",
      "SlateQ 246.198 2.4751335317513714\n",
      "WP 241.35100000000003 6.492766282564002\n",
      "LeveneResult(statistic=1.2387559921678413, pvalue=0.29803295406469404)\n",
      "ShapiroResult(statistic=0.9123519062995911, pvalue=0.4818522334098816)\n",
      "Ttest_relResult(statistic=1.8293022638478202, pvalue=0.14134199074467235)\n",
      "WilcoxonResult(statistic=1.0, pvalue=0.125)\n",
      "===== Cum satisfaction =====\n",
      "SlateQ 41.9388566827774 2.396559214302558\n",
      "WP 37.20725725543499 6.276050482802271\n",
      "LeveneResult(statistic=1.2746829342485546, pvalue=0.29160535154345973)\n",
      "ShapiroResult(statistic=0.9004870653152466, pvalue=0.4125833213329315)\n",
      "Ttest_relResult(statistic=1.8320013891414715, pvalue=0.14089988498894734)\n",
      "WilcoxonResult(statistic=1.0, pvalue=0.125)\n",
      "===== Avg satisfaction =====\n",
      "SlateQ 0.6357181721664965 0.048799222117163796\n",
      "WP 0.5555506880814209 0.09411378484972549\n",
      "LeveneResult(statistic=0.8934690742496622, pvalue=0.37220847793425677)\n",
      "ShapiroResult(statistic=0.9128715991973877, pvalue=0.4850381016731262)\n",
      "Ttest_relResult(statistic=2.3346267543299972, pvalue=0.07984649429000029)\n",
      "WilcoxonResult(statistic=1.0, pvalue=0.125)\n"
     ]
    }
   ],
   "source": [
    "print(\"===== SlateQ | WP10 =====\")\n",
    "sq_return = final_df.groupby([\"alg_name\", \"seed\"]).mean()[\"session_length\"][\"SlateQ\"].values\n",
    "wp_return = final_df.groupby([\"alg_name\", \"seed\"]).mean()[\"session_length\"][\"Slate-Wolpertinger 10%\"].values\n",
    "print(\"===== Return =====\")\n",
    "print(\"SlateQ\",sq_return.mean(), sq_return.std())\n",
    "print(\"WP\",wp_return.mean(), wp_return.std())\n",
    "stat_test(sq_return, wp_return)\n",
    "print(\"===== Cum satisfaction =====\")\n",
    "sq_cum_satisfaction = final_df.groupby([\"alg_name\", \"seed\"]).mean()[\"ep_cum_reward\"][\"SlateQ\"].values\n",
    "wp_cum_satisfaction = final_df.groupby([\"alg_name\", \"seed\"]).mean()[\"ep_cum_reward\"][\"Slate-Wolpertinger 10%\"].values\n",
    "print(\"SlateQ\",sq_cum_satisfaction.mean(), sq_cum_satisfaction.std())\n",
    "print(\"WP\",wp_cum_satisfaction.mean(), wp_cum_satisfaction.std())\n",
    "stat_test(sq_cum_satisfaction, wp_cum_satisfaction)\n",
    "print(\"===== Avg satisfaction =====\")\n",
    "sq_avg_satisfaction = final_df.groupby([\"alg_name\", \"seed\"]).mean()[\"ep_avg_reward\"][\"SlateQ\"].values\n",
    "wp_avg_satisfaction = final_df.groupby([\"alg_name\", \"seed\"]).mean()[\"ep_avg_reward\"][\"Slate-Wolpertinger 10%\"].values\n",
    "print(\"SlateQ\",sq_avg_satisfaction.mean(), sq_avg_satisfaction.std())\n",
    "print(\"WP\",wp_avg_satisfaction.mean(), wp_avg_satisfaction.std())\n",
    "stat_test(sq_avg_satisfaction, wp_avg_satisfaction)"
   ]
  },
  {
   "cell_type": "code",
   "execution_count": 35,
   "metadata": {},
   "outputs": [
    {
     "name": "stdout",
     "output_type": "stream",
     "text": [
      "===== SlateQ | WP5 =====\n",
      "===== Return =====\n",
      "SlateQ 246.198 2.4751335317513714\n",
      "WP 224.26100000000002 16.136361237899955\n",
      "LeveneResult(statistic=3.975574104021438, pvalue=0.08128261120165467)\n",
      "ShapiroResult(statistic=0.8993992209434509, pvalue=0.406574010848999)\n",
      "Ttest_relResult(statistic=2.7760228158017233, pvalue=0.050021610425840114)\n",
      "WilcoxonResult(statistic=0.0, pvalue=0.0625)\n",
      "===== Cum satisfaction =====\n",
      "SlateQ 41.9388566827774 2.396559214302558\n",
      "WP 20.823199695408345 15.448908770542232\n",
      "LeveneResult(statistic=3.974057663695129, pvalue=0.08133050012160724)\n",
      "ShapiroResult(statistic=0.8978506326675415, pvalue=0.3981201648712158)\n",
      "Ttest_relResult(statistic=2.776032840806059, pvalue=0.05002109727640227)\n",
      "WilcoxonResult(statistic=0.0, pvalue=0.0625)\n",
      "===== Avg satisfaction =====\n",
      "SlateQ 0.6357181721664965 0.048799222117163796\n",
      "WP 0.30034496704046615 0.24030001274547844\n",
      "LeveneResult(statistic=2.8441990271700197, pvalue=0.13018881769071353)\n",
      "ShapiroResult(statistic=0.8817130923271179, pvalue=0.31714627146720886)\n",
      "Ttest_relResult(statistic=2.826296215075156, pvalue=0.04752330787590795)\n",
      "WilcoxonResult(statistic=0.0, pvalue=0.0625)\n"
     ]
    }
   ],
   "source": [
    "print(\"===== SlateQ | WP5 =====\")\n",
    "sq_return = final_df.groupby([\"alg_name\", \"seed\"]).mean()[\"session_length\"][\"SlateQ\"].values\n",
    "wp_return = final_df.groupby([\"alg_name\", \"seed\"]).mean()[\"session_length\"][\"Slate-Wolpertinger 5%\"].values\n",
    "print(\"===== Return =====\")\n",
    "print(\"SlateQ\",sq_return.mean(), sq_return.std())\n",
    "print(\"WP\",wp_return.mean(), wp_return.std())\n",
    "stat_test(sq_return, wp_return)\n",
    "print(\"===== Cum satisfaction =====\")\n",
    "sq_cum_satisfaction = final_df.groupby([\"alg_name\", \"seed\"]).mean()[\"ep_cum_reward\"][\"SlateQ\"].values\n",
    "wp_cum_satisfaction = final_df.groupby([\"alg_name\", \"seed\"]).mean()[\"ep_cum_reward\"][\"Slate-Wolpertinger 5%\"].values\n",
    "print(\"SlateQ\",sq_cum_satisfaction.mean(), sq_cum_satisfaction.std())\n",
    "print(\"WP\",wp_cum_satisfaction.mean(), wp_cum_satisfaction.std())\n",
    "stat_test(sq_cum_satisfaction, wp_cum_satisfaction)\n",
    "print(\"===== Avg satisfaction =====\")\n",
    "sq_avg_satisfaction = final_df.groupby([\"alg_name\", \"seed\"]).mean()[\"ep_avg_reward\"][\"SlateQ\"].values\n",
    "wp_avg_satisfaction = final_df.groupby([\"alg_name\", \"seed\"]).mean()[\"ep_avg_reward\"][\"Slate-Wolpertinger 5%\"].values\n",
    "print(\"SlateQ\",sq_avg_satisfaction.mean(), sq_avg_satisfaction.std())\n",
    "print(\"WP\",wp_avg_satisfaction.mean(), wp_avg_satisfaction.std())\n",
    "stat_test(sq_avg_satisfaction, wp_avg_satisfaction)"
   ]
  },
  {
   "cell_type": "code",
   "execution_count": null,
   "metadata": {},
   "outputs": [],
   "source": []
  },
  {
   "cell_type": "code",
   "execution_count": null,
   "metadata": {},
   "outputs": [],
   "source": []
  },
  {
   "cell_type": "code",
   "execution_count": null,
   "metadata": {},
   "outputs": [],
   "source": []
  }
 ],
 "metadata": {
  "kernelspec": {
   "display_name": "Python 3.9.7 ('.venv': poetry)",
   "language": "python",
   "name": "python3"
  },
  "language_info": {
   "codemirror_mode": {
    "name": "ipython",
    "version": 3
   },
   "file_extension": ".py",
   "mimetype": "text/x-python",
   "name": "python",
   "nbconvert_exporter": "python",
   "pygments_lexer": "ipython3",
   "version": "3.9.7"
  },
  "orig_nbformat": 4,
  "vscode": {
   "interpreter": {
    "hash": "ace5c6500e4ed53786b45b2563799ed98d7d109434892245303149a18f98800f"
   }
  }
 },
 "nbformat": 4,
 "nbformat_minor": 2
}
