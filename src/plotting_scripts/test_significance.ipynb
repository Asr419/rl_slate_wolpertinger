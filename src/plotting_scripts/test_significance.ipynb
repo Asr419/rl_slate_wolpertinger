{
 "cells": [
  {
   "cell_type": "code",
   "execution_count": 1,
   "metadata": {},
   "outputs": [
    {
     "name": "stderr",
     "output_type": "stream",
     "text": [
      "/home/aayush/.cache/pypoetry/virtualenvs/rl-recsys-jTURx9O2-py3.10/lib/python3.10/site-packages/tqdm/auto.py:21: TqdmWarning: IProgress not found. Please update jupyter and ipywidgets. See https://ipywidgets.readthedocs.io/en/stable/user_install.html\n",
      "  from .autonotebook import tqdm as notebook_tqdm\n"
     ]
    }
   ],
   "source": [
    "import os \n",
    "from pathlib import Path\n",
    "from dotenv import load_dotenv\n",
    "import pickle\n",
    "import pandas as pd\n",
    "import torch\n",
    "from tqdm import tqdm\n",
    "import seaborn as sns"
   ]
  },
  {
   "cell_type": "code",
   "execution_count": 2,
   "metadata": {},
   "outputs": [
    {
     "data": {
      "text/plain": [
       "True"
      ]
     },
     "execution_count": 2,
     "metadata": {},
     "output_type": "execute_result"
    }
   ],
   "source": [
    "load_dotenv()\n"
   ]
  },
  {
   "cell_type": "code",
   "execution_count": 3,
   "metadata": {},
   "outputs": [],
   "source": [
    "base_path = Path.home()/Path(os.environ.get(\"SAVE_PATH\"))"
   ]
  },
  {
   "cell_type": "code",
   "execution_count": 4,
   "metadata": {},
   "outputs": [],
   "source": [
    "# loading slateq results\n",
    "ALPHA = 0.25\n",
    "SEEDS = [5, 7, 46, 53, 77]"
   ]
  },
  {
   "cell_type": "code",
   "execution_count": 5,
   "metadata": {},
   "outputs": [],
   "source": [
    "def parse_data(data_dict: dict, alg_nam:str, seed: int)->pd.DataFrame:\n",
    "    # convert from torch to float\n",
    "    for k, v in data_dict.items():\n",
    "        if isinstance(v, torch.Tensor):\n",
    "            data_dict[k] = v.item()\n",
    "        elif isinstance(v, list):\n",
    "            if isinstance(v[0], torch.Tensor):\n",
    "                data_dict[k] = [x.item() for x in v]\n",
    "    data_df = pd.DataFrame(data_dict)\n",
    "    data_df[\"alg_name\"] = alg_nam\n",
    "    data_df[\"seed\"] = seed\n",
    "    data_df = data_df.reset_index().rename(columns={\"index\": \"episode\"})\n",
    "    \n",
    "    return data_df"
   ]
  },
  {
   "cell_type": "code",
   "execution_count": 6,
   "metadata": {},
   "outputs": [
    {
     "name": "stderr",
     "output_type": "stream",
     "text": [
      "100%|██████████| 5/5 [00:00<00:00, 41.40it/s]\n"
     ]
    }
   ],
   "source": [
    "# load slateq results\n",
    "res_df_list = []\n",
    "for seed in tqdm(SEEDS):\n",
    "    slateq_dict = pickle.load(open(base_path / Path(f\"serving_slateq_2000_{seed}\")/ \"logs_dict.pickle\", \"rb\"))\n",
    "    res_df = parse_data(slateq_dict, \"SlateQ\", seed)\n",
    "    res_df_list.append(res_df)\n",
    "# concat all results\n",
    "final_df = pd.concat(res_df_list)"
   ]
  },
  {
   "cell_type": "code",
   "execution_count": 7,
   "metadata": {},
   "outputs": [
    {
     "name": "stderr",
     "output_type": "stream",
     "text": [
      "100%|██████████| 5/5 [00:00<00:00, 12.01it/s]\n"
     ]
    }
   ],
   "source": [
    "# load wp results\n",
    "res_df_list = []\n",
    "\n",
    "for seed in tqdm(SEEDS):\n",
    "    for knearest in [10,20]:\n",
    "        slateq_dict = pickle.load(open(base_path / Path(f\"serving_proto_item_2000_{knearest}_{seed}\")/ \"logs_dict.pickle\", \"rb\"))\n",
    "        res_df = parse_data(slateq_dict, f\"Item-Wolpertinger {knearest}%\", seed)\n",
    "        res_df_list.append(res_df)\n",
    "# concat all results\n",
    "wp_df = pd.concat(res_df_list)\n",
    "final_df = pd.concat([final_df, wp_df])"
   ]
  },
  {
   "cell_type": "code",
   "execution_count": 8,
   "metadata": {},
   "outputs": [
    {
     "name": "stderr",
     "output_type": "stream",
     "text": [
      "100%|██████████| 5/5 [00:00<00:00, 22.04it/s]\n"
     ]
    }
   ],
   "source": [
    "res_df_list = []\n",
    "\n",
    "for seed in tqdm(SEEDS):\n",
    "    for knearest in [10,20]:\n",
    "        slateq_dict = pickle.load(open(base_path / Path(f\"serving_proto_slate_2000_{knearest}_{seed}\")/ \"logs_dict.pickle\", \"rb\"))\n",
    "        res_df = parse_data(slateq_dict, f\"Slate-Wolpertinger {knearest}%\", seed)\n",
    "        res_df_list.append(res_df)\n",
    "# concat all results\n",
    "slate_wp_df = pd.concat(res_df_list)\n",
    "final_df = pd.concat([final_df, slate_wp_df])"
   ]
  },
  {
   "cell_type": "code",
   "execution_count": 9,
   "metadata": {},
   "outputs": [],
   "source": [
    "final_df = final_df.reset_index(drop=True)"
   ]
  },
  {
   "cell_type": "code",
   "execution_count": 10,
   "metadata": {},
   "outputs": [],
   "source": [
    "from scipy.stats import levene\n",
    "from scipy.stats import shapiro\n",
    "from scipy.stats import ttest_rel\n",
    "from scipy.stats import wilcoxon\n",
    "def stat_test(r1,r2):\n",
    "    print(levene(r1, r2))\n",
    "    differences = [a-b for a,b in zip(r1, r2)]\n",
    "    print(shapiro(differences))\n",
    "    print(ttest_rel(r1, r2))\n",
    "    print(wilcoxon(r1, r2))"
   ]
  },
  {
   "attachments": {},
   "cell_type": "markdown",
   "metadata": {},
   "source": [
    "# Statistical tests"
   ]
  },
  {
   "attachments": {},
   "cell_type": "markdown",
   "metadata": {},
   "source": [
    "### SlateQ | Item-WP20 | Slate-WP20"
   ]
  },
  {
   "cell_type": "code",
   "execution_count": 13,
   "metadata": {},
   "outputs": [
    {
     "name": "stdout",
     "output_type": "stream",
     "text": [
      "===== SlateQ | WP20 =====\n",
      "===== Return =====\n",
      "SlateQ 215.53400000000002 1.8768015345262268\n",
      "Item-WP 201.573 2.853234305135139\n",
      "Slate-WP 212.327 5.800686683488428\n",
      "SlateQ vs Item-WP\n",
      "LeveneResult(statistic=0.31588588543779067, pvalue=0.5894864385725671)\n",
      "ShapiroResult(statistic=0.7695077061653137, pvalue=0.04466827213764191)\n",
      "Ttest_relResult(statistic=6.682929681839215, pvalue=0.0026066661371982824)\n",
      "WilcoxonResult(statistic=0.0, pvalue=0.0625)\n",
      "Slate-Wp vs SlateQ\n",
      "LeveneResult(statistic=1.8803948118208547, pvalue=0.20751824461672697)\n",
      "ShapiroResult(statistic=0.9630462527275085, pvalue=0.829020619392395)\n",
      "Ttest_relResult(statistic=1.617150469437075, pvalue=0.18115349898992922)\n",
      "WilcoxonResult(statistic=2.0, pvalue=0.1875)\n",
      "===== Cum satisfaction =====\n",
      "SlateQ 12.478878202378748 1.8294516254383966\n",
      "Item-WP -0.7373401412963867 2.7041389304995125\n",
      "Slate-WP 9.45061971861124 5.613848506759906\n",
      "SlateQ vs Item-WP\n",
      "LeveneResult(statistic=0.2434941959986534, pvalue=0.6349537359554283)\n",
      "ShapiroResult(statistic=0.7521407604217529, pvalue=0.031149348244071007)\n",
      "Ttest_relResult(statistic=6.580075526679411, pvalue=0.002761534370208337)\n",
      "WilcoxonResult(statistic=0.0, pvalue=0.0625)\n",
      "Slate-Wp vs SlateQ\n",
      "LeveneResult(statistic=1.7332824971414673, pvalue=0.22445682585243498)\n",
      "ShapiroResult(statistic=0.9533756375312805, pvalue=0.761267900466919)\n",
      "Ttest_relResult(statistic=1.5880008943084896, pvalue=0.1874811105543515)\n",
      "WilcoxonResult(statistic=2.0, pvalue=0.1875)\n",
      "===== Avg satisfaction =====\n",
      "SlateQ 0.2076433737056213 0.03545460219908787\n",
      "Item-WP -0.016109264443948633 0.045577472754897874\n",
      "Slate-WP 0.15603293662238865 0.09647763405272923\n",
      "SlateQ vs Item-WP\n",
      "LeveneResult(statistic=0.12637980689382622, pvalue=0.7314068117139385)\n",
      "ShapiroResult(statistic=0.7495331764221191, pvalue=0.029468201100826263)\n",
      "Ttest_relResult(statistic=6.281954035076879, pvalue=0.003279052159464578)\n",
      "WilcoxonResult(statistic=0.0, pvalue=0.0625)\n",
      "Slate-Wp vs SlateQ\n",
      "LeveneResult(statistic=1.3205254750014046, pvalue=0.2836922299194803)\n",
      "ShapiroResult(statistic=0.9439431428909302, pvalue=0.6939335465431213)\n",
      "Ttest_relResult(statistic=1.6877292964776711, pvalue=0.1667362882602184)\n",
      "WilcoxonResult(statistic=2.0, pvalue=0.1875)\n"
     ]
    }
   ],
   "source": [
    "print(\"===== SlateQ | Item-WP20 | Slate-WP20 =====\")\n",
    "sq_return = final_df.groupby([\"alg_name\", \"seed\"]).mean()[\"session_length\"][\"SlateQ\"].values\n",
    "wp_return = final_df.groupby([\"alg_name\", \"seed\"]).mean()[\"session_length\"][\"Item-Wolpertinger 20%\"].values\n",
    "slate_wp_return = final_df.groupby([\"alg_name\", \"seed\"]).mean()[\"session_length\"][\"Slate-Wolpertinger 20%\"].values\n",
    "print(\"===== Return =====\")\n",
    "print(\"SlateQ\",sq_return.mean(), sq_return.std())\n",
    "print(\"Item-WP\",wp_return.mean(), wp_return.std())\n",
    "print(\"Slate-WP\",slate_wp_return.mean(), slate_wp_return.std())\n",
    "print(\"SlateQ vs Item-WP\")\n",
    "stat_test(sq_return, wp_return)\n",
    "print(\"Slate-Wp vs SlateQ\")\n",
    "stat_test(sq_return, slate_wp_return)\n",
    "print(\"===== Cum satisfaction =====\")\n",
    "sq_cum_satisfaction = final_df.groupby([\"alg_name\", \"seed\"]).mean()[\"ep_cum_reward\"][\"SlateQ\"].values\n",
    "wp_cum_satisfaction = final_df.groupby([\"alg_name\", \"seed\"]).mean()[\"ep_cum_reward\"][\"Item-Wolpertinger 20%\"].values\n",
    "slate_wp_cum_satisfaction = final_df.groupby([\"alg_name\", \"seed\"]).mean()[\"ep_cum_reward\"][\"Slate-Wolpertinger 20%\"].values\n",
    "print(\"SlateQ\",sq_cum_satisfaction.mean(), sq_cum_satisfaction.std())\n",
    "print(\"Item-WP\",wp_cum_satisfaction.mean(), wp_cum_satisfaction.std())\n",
    "print(\"Slate-WP\",slate_wp_cum_satisfaction.mean(), slate_wp_cum_satisfaction.std())\n",
    "print(\"SlateQ vs Item-WP\")\n",
    "stat_test(sq_cum_satisfaction, wp_cum_satisfaction)\n",
    "print(\"Slate-Wp vs SlateQ\")\n",
    "stat_test(sq_cum_satisfaction, slate_wp_cum_satisfaction)\n",
    "print(\"===== Avg satisfaction =====\")\n",
    "sq_avg_satisfaction = final_df.groupby([\"alg_name\", \"seed\"]).mean()[\"ep_avg_reward\"][\"SlateQ\"].values\n",
    "wp_avg_satisfaction = final_df.groupby([\"alg_name\", \"seed\"]).mean()[\"ep_avg_reward\"][\"Item-Wolpertinger 20%\"].values\n",
    "slate_wp_avg_satisfaction = final_df.groupby([\"alg_name\", \"seed\"]).mean()[\"ep_avg_reward\"][\"Slate-Wolpertinger 20%\"].values\n",
    "print(\"SlateQ\",sq_avg_satisfaction.mean(), sq_avg_satisfaction.std())\n",
    "print(\"Item-WP\",wp_avg_satisfaction.mean(), wp_avg_satisfaction.std())\n",
    "print(\"Slate-WP\",slate_wp_avg_satisfaction.mean(), slate_wp_avg_satisfaction.std())\n",
    "print(\"SlateQ vs Item-WP\")\n",
    "stat_test(sq_avg_satisfaction, wp_avg_satisfaction)\n",
    "print(\"Slate-Wp vs SlateQ\")\n",
    "stat_test(sq_avg_satisfaction, slate_wp_avg_satisfaction)"
   ]
  },
  {
   "cell_type": "code",
   "execution_count": 130,
   "metadata": {},
   "outputs": [
    {
     "name": "stdout",
     "output_type": "stream",
     "text": [
      "===== SlateQ | WP10 =====\n",
      "===== Return =====\n",
      "SlateQ 244.776 2.7584405014427973\n",
      "WP 238.06600000000003 7.100988241083074\n",
      "LeveneResult(statistic=4.27485464665415, pvalue=0.07250207538860465)\n",
      "ShapiroResult(statistic=0.8594928979873657, pvalue=0.22643327713012695)\n",
      "Ttest_relResult(statistic=3.0073120782097305, pvalue=0.039655178421421126)\n",
      "WilcoxonResult(statistic=0.0, pvalue=0.0625)\n",
      "===== Cum satisfaction =====\n",
      "SlateQ 40.56651997661591 2.675467144996049\n",
      "WP 34.07347901815176 6.8623124941032705\n",
      "LeveneResult(statistic=4.219782751961376, pvalue=0.07402256027078906)\n",
      "ShapiroResult(statistic=0.8661351799964905, pvalue=0.2511243522167206)\n",
      "Ttest_relResult(statistic=3.022989778046748, pvalue=0.039048362618222345)\n",
      "WilcoxonResult(statistic=0.0, pvalue=0.0625)\n",
      "===== Avg satisfaction =====\n",
      "SlateQ 0.6184224149733782 0.04614209242149694\n",
      "WP 0.502226670967182 0.1043726417868731\n",
      "LeveneResult(statistic=2.716361309072732, pvalue=0.13793688908527466)\n",
      "ShapiroResult(statistic=0.8940783739089966, pvalue=0.3780272603034973)\n",
      "Ttest_relResult(statistic=3.789929041271417, pvalue=0.019270055808526563)\n",
      "WilcoxonResult(statistic=0.0, pvalue=0.0625)\n"
     ]
    }
   ],
   "source": [
    "print(\"===== SlateQ | Item-WP10 | Slate-WP10=====\")\n",
    "sq_return = final_df.groupby([\"alg_name\", \"seed\"]).mean()[\"session_length\"][\"SlateQ\"].values\n",
    "wp_return = final_df.groupby([\"alg_name\", \"seed\"]).mean()[\"session_length\"][\"Item-Wolpertinger 10%\"].values\n",
    "slate_wp_return = final_df.groupby([\"alg_name\", \"seed\"]).mean()[\"session_length\"][\"Slate-Wolpertinger 10%\"].values\n",
    "print(\"===== Return =====\")\n",
    "print(\"SlateQ\",sq_return.mean(), sq_return.std())\n",
    "print(\"Item-WP\",wp_return.mean(), wp_return.std())\n",
    "print(\"Slate-WP\",slate_wp_return.mean(), slate_wp_return.std())\n",
    "print(\"SlateQ vs Item-WP\")\n",
    "stat_test(sq_return, wp_return)\n",
    "print(\"Slate-Wp vs SlateQ\")\n",
    "stat_test(sq_return, slate_wp_return)\n",
    "print(\"===== Cum satisfaction =====\")\n",
    "sq_cum_satisfaction = final_df.groupby([\"alg_name\", \"seed\"]).mean()[\"ep_cum_reward\"][\"SlateQ\"].values\n",
    "wp_cum_satisfaction = final_df.groupby([\"alg_name\", \"seed\"]).mean()[\"ep_cum_reward\"][\"Item-Wolpertinger 10%\"].values\n",
    "slate_wp_cum_satisfaction = final_df.groupby([\"alg_name\", \"seed\"]).mean()[\"ep_cum_reward\"][\"Slate-Wolpertinger 10%\"].values\n",
    "print(\"SlateQ\",sq_cum_satisfaction.mean(), sq_cum_satisfaction.std())\n",
    "print(\"Item-WP\",wp_cum_satisfaction.mean(), wp_cum_satisfaction.std())\n",
    "print(\"Slate-WP\",slate_wp_cum_satisfaction.mean(), slate_wp_cum_satisfaction.std())\n",
    "print(\"SlateQ vs Item-WP\")\n",
    "stat_test(sq_cum_satisfaction, wp_cum_satisfaction)\n",
    "print(\"Slate-Wp vs SlateQ\")\n",
    "stat_test(sq_cum_satisfaction, slate_wp_cum_satisfaction)\n",
    "print(\"===== Avg satisfaction =====\")\n",
    "sq_avg_satisfaction = final_df.groupby([\"alg_name\", \"seed\"]).mean()[\"ep_avg_reward\"][\"SlateQ\"].values\n",
    "wp_avg_satisfaction = final_df.groupby([\"alg_name\", \"seed\"]).mean()[\"ep_avg_reward\"][\"Item-Wolpertinger 10%\"].values\n",
    "slate_wp_avg_satisfaction = final_df.groupby([\"alg_name\", \"seed\"]).mean()[\"ep_avg_reward\"][\"Slate-Wolpertinger 10%\"].values\n",
    "print(\"SlateQ\",sq_avg_satisfaction.mean(), sq_avg_satisfaction.std())\n",
    "print(\"Item-WP\",wp_avg_satisfaction.mean(), wp_avg_satisfaction.std())\n",
    "print(\"Slate-WP\",slate_wp_avg_satisfaction.mean(), slate_wp_avg_satisfaction.std())\n",
    "print(\"SlateQ vs Item-WP\")\n",
    "stat_test(sq_avg_satisfaction, wp_avg_satisfaction)\n",
    "print(\"Slate-Wp vs SlateQ\")\n",
    "stat_test(sq_avg_satisfaction, slate_wp_avg_satisfaction)"
   ]
  },
  {
   "cell_type": "code",
   "execution_count": 131,
   "metadata": {},
   "outputs": [
    {
     "name": "stdout",
     "output_type": "stream",
     "text": [
      "===== SlateQ | WP5 =====\n",
      "===== Return =====\n",
      "SlateQ 244.776 2.7584405014427973\n",
      "WP 219.079 13.064051209330128\n",
      "LeveneResult(statistic=1.1508009095625247, pvalue=0.3146721173875861)\n",
      "ShapiroResult(statistic=0.6741660833358765, pvalue=0.005039647687226534)\n",
      "Ttest_relResult(statistic=4.724218392061491, pvalue=0.009143038018326185)\n",
      "WilcoxonResult(statistic=0.0, pvalue=0.0625)\n",
      "===== Cum satisfaction =====\n",
      "SlateQ 40.56651997661591 2.675467144996049\n",
      "WP 16.047076077818872 12.584033893978804\n",
      "LeveneResult(statistic=1.2092195095870424, pvalue=0.3034733788766488)\n",
      "ShapiroResult(statistic=0.6851897239685059, pvalue=0.006660476326942444)\n",
      "Ttest_relResult(statistic=4.6723137344045815, pvalue=0.009501924250765431)\n",
      "WilcoxonResult(statistic=0.0, pvalue=0.0625)\n",
      "===== Avg satisfaction =====\n",
      "SlateQ 0.6184224149733782 0.04614209242149694\n",
      "WP 0.22396962070278822 0.19863702275602155\n",
      "LeveneResult(statistic=1.155367369873131, pvalue=0.3137749486304136)\n",
      "ShapiroResult(statistic=0.6590058207511902, pvalue=0.003392178099602461)\n",
      "Ttest_relResult(statistic=4.60328538369799, pvalue=0.010006097899642468)\n",
      "WilcoxonResult(statistic=0.0, pvalue=0.0625)\n"
     ]
    }
   ],
   "source": [
    "print(\"===== SlateQ | Item-WP10 | Slate-WP10=====\")\n",
    "sq_return = final_df.groupby([\"alg_name\", \"seed\"]).mean()[\"session_length\"][\"SlateQ\"].values\n",
    "wp_return = final_df.groupby([\"alg_name\", \"seed\"]).mean()[\"session_length\"][\"Item-Wolpertinger 5%\"].values\n",
    "slate_wp_return = final_df.groupby([\"alg_name\", \"seed\"]).mean()[\"session_length\"][\"Slate-Wolpertinger 5%\"].values\n",
    "print(\"===== Return =====\")\n",
    "print(\"SlateQ\",sq_return.mean(), sq_return.std())\n",
    "print(\"Item-WP\",wp_return.mean(), wp_return.std())\n",
    "print(\"Slate-WP\",slate_wp_return.mean(), slate_wp_return.std())\n",
    "print(\"SlateQ vs Item-WP\")\n",
    "stat_test(sq_return, wp_return)\n",
    "print(\"Slate-Wp vs SlateQ\")\n",
    "stat_test(sq_return, slate_wp_return)\n",
    "print(\"===== Cum satisfaction =====\")\n",
    "sq_cum_satisfaction = final_df.groupby([\"alg_name\", \"seed\"]).mean()[\"ep_cum_reward\"][\"SlateQ\"].values\n",
    "wp_cum_satisfaction = final_df.groupby([\"alg_name\", \"seed\"]).mean()[\"ep_cum_reward\"][\"Item-Wolpertinger 5%\"].values\n",
    "slate_wp_cum_satisfaction = final_df.groupby([\"alg_name\", \"seed\"]).mean()[\"ep_cum_reward\"][\"Slate-Wolpertinger 5%\"].values\n",
    "print(\"SlateQ\",sq_cum_satisfaction.mean(), sq_cum_satisfaction.std())\n",
    "print(\"Item-WP\",wp_cum_satisfaction.mean(), wp_cum_satisfaction.std())\n",
    "print(\"Slate-WP\",slate_wp_cum_satisfaction.mean(), slate_wp_cum_satisfaction.std())\n",
    "print(\"SlateQ vs Item-WP\")\n",
    "stat_test(sq_cum_satisfaction, wp_cum_satisfaction)\n",
    "print(\"Slate-Wp vs SlateQ\")\n",
    "stat_test(sq_cum_satisfaction, slate_wp_cum_satisfaction)\n",
    "print(\"===== Avg satisfaction =====\")\n",
    "sq_avg_satisfaction = final_df.groupby([\"alg_name\", \"seed\"]).mean()[\"ep_avg_reward\"][\"SlateQ\"].values\n",
    "wp_avg_satisfaction = final_df.groupby([\"alg_name\", \"seed\"]).mean()[\"ep_avg_reward\"][\"Item-Wolpertinger 5%\"].values\n",
    "slate_wp_avg_satisfaction = final_df.groupby([\"alg_name\", \"seed\"]).mean()[\"ep_avg_reward\"][\"Slate-Wolpertinger 5%\"].values\n",
    "print(\"SlateQ\",sq_avg_satisfaction.mean(), sq_avg_satisfaction.std())\n",
    "print(\"Item-WP\",wp_avg_satisfaction.mean(), wp_avg_satisfaction.std())\n",
    "print(\"Slate-WP\",slate_wp_avg_satisfaction.mean(), slate_wp_avg_satisfaction.std())\n",
    "print(\"SlateQ vs Item-WP\")\n",
    "stat_test(sq_avg_satisfaction, wp_avg_satisfaction)\n",
    "print(\"Slate-Wp vs SlateQ\")\n",
    "stat_test(sq_avg_satisfaction, slate_wp_avg_satisfaction)  "
   ]
  },
  {
   "cell_type": "code",
   "execution_count": null,
   "metadata": {},
   "outputs": [],
   "source": []
  },
  {
   "cell_type": "code",
   "execution_count": null,
   "metadata": {},
   "outputs": [],
   "source": []
  },
  {
   "cell_type": "code",
   "execution_count": null,
   "metadata": {},
   "outputs": [],
   "source": []
  }
 ],
 "metadata": {
  "kernelspec": {
   "display_name": "Python 3.9.7 ('.venv': poetry)",
   "language": "python",
   "name": "python3"
  },
  "language_info": {
   "codemirror_mode": {
    "name": "ipython",
    "version": 3
   },
   "file_extension": ".py",
   "mimetype": "text/x-python",
   "name": "python",
   "nbconvert_exporter": "python",
   "pygments_lexer": "ipython3",
   "version": "3.10.7"
  },
  "orig_nbformat": 4,
  "vscode": {
   "interpreter": {
    "hash": "ace5c6500e4ed53786b45b2563799ed98d7d109434892245303149a18f98800f"
   }
  }
 },
 "nbformat": 4,
 "nbformat_minor": 2
}
