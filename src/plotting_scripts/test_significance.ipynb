{
 "cells": [
  {
   "cell_type": "code",
   "execution_count": 1,
   "metadata": {},
   "outputs": [
    {
     "name": "stderr",
     "output_type": "stream",
     "text": [
      "/home/aayush/git/rl_wolpertinger/.venv/lib/python3.9/site-packages/tqdm/auto.py:21: TqdmWarning: IProgress not found. Please update jupyter and ipywidgets. See https://ipywidgets.readthedocs.io/en/stable/user_install.html\n",
      "  from .autonotebook import tqdm as notebook_tqdm\n"
     ]
    }
   ],
   "source": [
    "import os \n",
    "from pathlib import Path\n",
    "from dotenv import load_dotenv\n",
    "import pickle\n",
    "import pandas as pd\n",
    "import torch\n",
    "from tqdm import tqdm\n",
    "import seaborn as sns"
   ]
  },
  {
   "cell_type": "code",
   "execution_count": 2,
   "metadata": {},
   "outputs": [
    {
     "data": {
      "text/plain": [
       "True"
      ]
     },
     "execution_count": 2,
     "metadata": {},
     "output_type": "execute_result"
    }
   ],
   "source": [
    "load_dotenv()"
   ]
  },
  {
   "cell_type": "code",
   "execution_count": 3,
   "metadata": {},
   "outputs": [],
   "source": [
    "base_path = Path.home()/Path(os.environ.get(\"SAVE_PATH\"))"
   ]
  },
  {
   "cell_type": "code",
   "execution_count": 4,
   "metadata": {},
   "outputs": [],
   "source": [
    "# loading slateq results\n",
    "ALPHA = 0.25\n",
    "SEEDS = [42, 5, 7, 97, 53]"
   ]
  },
  {
   "cell_type": "code",
   "execution_count": 5,
   "metadata": {},
   "outputs": [],
   "source": [
    "def parse_data(data_dict: dict, alg_nam:str, seed: int)->pd.DataFrame:\n",
    "    # convert from torch to float\n",
    "    for k, v in data_dict.items():\n",
    "        if isinstance(v, torch.Tensor):\n",
    "            data_dict[k] = v.item()\n",
    "        elif isinstance(v, list):\n",
    "            if isinstance(v[0], torch.Tensor):\n",
    "                data_dict[k] = [x.item() for x in v]\n",
    "    data_df = pd.DataFrame(data_dict)\n",
    "    data_df[\"alg_name\"] = alg_nam\n",
    "    data_df[\"seed\"] = seed\n",
    "    data_df = data_df.reset_index().rename(columns={\"index\": \"episode\"})\n",
    "    \n",
    "    return data_df"
   ]
  },
  {
   "cell_type": "code",
   "execution_count": 6,
   "metadata": {},
   "outputs": [
    {
     "name": "stderr",
     "output_type": "stream",
     "text": [
      "100%|██████████| 5/5 [00:00<00:00, 17.44it/s]\n"
     ]
    }
   ],
   "source": [
    "# load slateq results\n",
    "res_df_list = []\n",
    "for seed in tqdm(SEEDS):\n",
    "    slateq_dict = pickle.load(open(base_path / Path(f\"test_serving_observed_topic_slateq_{seed}\")/ \"logs_dict.pickle\", \"rb\"))\n",
    "    res_df = parse_data(slateq_dict, \"SlateQ\", seed)\n",
    "    res_df_list.append(res_df)\n",
    "# concat all results\n",
    "final_df = pd.concat(res_df_list)"
   ]
  },
  {
   "cell_type": "code",
   "execution_count": 20,
   "metadata": {},
   "outputs": [
    {
     "name": "stderr",
     "output_type": "stream",
     "text": [
      "100%|██████████| 5/5 [00:00<00:00,  5.78it/s]\n"
     ]
    }
   ],
   "source": [
    "# load wp results\n",
    "res_df_list = []\n",
    "\n",
    "for seed in tqdm(SEEDS):\n",
    "    for knearest in [20, 10, 5]:\n",
    "        slateq_dict = pickle.load(open(base_path / Path(f\"test_wa_{knearest}_serving_observed_topic_slateq_{seed}\")/ \"logs_dict.pickle\", \"rb\"))\n",
    "        res_df = parse_data(slateq_dict, f\"Slate-Wolpertinger {knearest}%\", seed)\n",
    "        res_df_list.append(res_df)\n",
    "# concat all results\n",
    "wp_df = pd.concat(res_df_list)\n",
    "final_df = pd.concat([final_df, wp_df])"
   ]
  },
  {
   "cell_type": "code",
   "execution_count": 21,
   "metadata": {},
   "outputs": [],
   "source": [
    "final_df = final_df.reset_index(drop=True)"
   ]
  },
  {
   "cell_type": "code",
   "execution_count": 22,
   "metadata": {},
   "outputs": [],
   "source": [
    "from scipy.stats import levene\n",
    "from scipy.stats import shapiro\n",
    "from scipy.stats import ttest_rel\n",
    "from scipy.stats import wilcoxon\n",
    "def stat_test(r1,r2):\n",
    "    print(levene(r1, r2))\n",
    "    differences = [a-b for a,b in zip(r1, r2)]\n",
    "    print(shapiro(differences))\n",
    "    print(ttest_rel(r1, r2))\n",
    "    print(wilcoxon(r1, r2))"
   ]
  },
  {
   "cell_type": "markdown",
   "metadata": {},
   "source": [
    "# Statistical tests"
   ]
  },
  {
   "cell_type": "markdown",
   "metadata": {},
   "source": [
    "### SlateQ | WP20"
   ]
  },
  {
   "cell_type": "code",
   "execution_count": 23,
   "metadata": {},
   "outputs": [
    {
     "name": "stdout",
     "output_type": "stream",
     "text": [
      "===== SlateQ | WP20 =====\n",
      "===== Return =====\n",
      "SlateQ 247.35999999999999 2.2637866507248403\n",
      "WP 246.90900000000002 1.4865947665722512\n",
      "LeveneResult(statistic=0.532552629151727, pvalue=0.48635139355725243)\n",
      "ShapiroResult(statistic=0.9046893119812012, pvalue=0.4363434314727783)\n",
      "Ttest_relResult(statistic=0.5531666966167407, pvalue=0.609609268612966)\n",
      "WilcoxonResult(statistic=7.0, pvalue=1.0)\n",
      "===== Cum satisfaction =====\n",
      "SlateQ 42.994156853437424 2.2732131750562172\n",
      "WP 42.58386329197884 1.425497232594593\n",
      "LeveneResult(statistic=0.6073407830235915, pvalue=0.45822243316908684)\n",
      "ShapiroResult(statistic=0.8972166180610657, pvalue=0.39469367265701294)\n",
      "Ttest_relResult(statistic=0.49896060945606324, pvalue=0.6440000797701579)\n",
      "WilcoxonResult(statistic=7.0, pvalue=1.0)\n",
      "===== Avg satisfaction =====\n",
      "SlateQ 0.6475132667906582 0.04269675827454641\n",
      "WP 0.6299324461407959 0.04269675827454641\n",
      "LeveneResult(statistic=0.48436659653185354, pvalue=0.50616309618521)\n",
      "ShapiroResult(statistic=0.8875937461853027, pvalue=0.34514856338500977)\n",
      "Ttest_relResult(statistic=1.5350493711841187, pvalue=0.1995652708899028)\n",
      "WilcoxonResult(statistic=3.0, pvalue=0.3125)\n"
     ]
    }
   ],
   "source": [
    "print(\"===== SlateQ | WP20 =====\")\n",
    "sq_return = final_df.groupby([\"alg_name\", \"seed\"]).mean()[\"session_length\"][\"SlateQ\"].values\n",
    "wp_return = final_df.groupby([\"alg_name\", \"seed\"]).mean()[\"session_length\"][\"Slate-Wolpertinger 20%\"].values\n",
    "print(\"===== Return =====\")\n",
    "print(\"SlateQ\",sq_return.mean(), sq_return.std())\n",
    "print(\"WP\",wp_return.mean(), wp_return.std())\n",
    "stat_test(sq_return, wp_return)\n",
    "print(\"===== Cum satisfaction =====\")\n",
    "sq_cum_satisfaction = final_df.groupby([\"alg_name\", \"seed\"]).mean()[\"ep_cum_reward\"][\"SlateQ\"].values\n",
    "wp_cum_satisfaction = final_df.groupby([\"alg_name\", \"seed\"]).mean()[\"ep_cum_reward\"][\"Slate-Wolpertinger 20%\"].values\n",
    "print(\"SlateQ\",sq_cum_satisfaction.mean(), sq_cum_satisfaction.std())\n",
    "print(\"WP\",wp_cum_satisfaction.mean(), wp_cum_satisfaction.std())\n",
    "stat_test(sq_cum_satisfaction, wp_cum_satisfaction)\n",
    "print(\"===== Avg satisfaction =====\")\n",
    "sq_avg_satisfaction = final_df.groupby([\"alg_name\", \"seed\"]).mean()[\"ep_avg_reward\"][\"SlateQ\"].values\n",
    "wp_avg_satisfaction = final_df.groupby([\"alg_name\", \"seed\"]).mean()[\"ep_avg_reward\"][\"Slate-Wolpertinger 20%\"].values\n",
    "print(\"SlateQ\",sq_avg_satisfaction.mean(), sq_avg_satisfaction.std())\n",
    "print(\"WP\",wp_avg_satisfaction.mean(), sq_avg_satisfaction.std())\n",
    "stat_test(sq_avg_satisfaction, wp_avg_satisfaction)"
   ]
  },
  {
   "cell_type": "code",
   "execution_count": 24,
   "metadata": {},
   "outputs": [
    {
     "name": "stdout",
     "output_type": "stream",
     "text": [
      "===== SlateQ | WP10 =====\n",
      "===== Return =====\n",
      "SlateQ 247.35999999999999 2.2637866507248403\n",
      "WP 241.548 5.145801783978859\n",
      "LeveneResult(statistic=1.6060896573162176, pvalue=0.24068633911610735)\n",
      "ShapiroResult(statistic=0.863184928894043, pvalue=0.23991072177886963)\n",
      "Ttest_relResult(statistic=3.4477882098482775, pvalue=0.02610716489372576)\n",
      "WilcoxonResult(statistic=0.0, pvalue=0.0625)\n",
      "===== Cum satisfaction =====\n",
      "SlateQ 42.994156853437424 2.2732131750562172\n",
      "WP 37.37873866891861 4.9499202480279445\n",
      "LeveneResult(statistic=1.506594875109685, pvalue=0.25454979103348285)\n",
      "ShapiroResult(statistic=0.8609022498130798, pvalue=0.23150594532489777)\n",
      "Ttest_relResult(statistic=3.513304841453682, pvalue=0.024598324235586534)\n",
      "WilcoxonResult(statistic=0.0, pvalue=0.0625)\n",
      "===== Avg satisfaction =====\n",
      "SlateQ 0.6475132667906582 0.04269675827454641\n",
      "WP 0.5488295829081907 0.04269675827454641\n",
      "LeveneResult(statistic=1.5169382720486726, pvalue=0.25305690972702344)\n",
      "ShapiroResult(statistic=0.8474172353744507, pvalue=0.1864917278289795)\n",
      "Ttest_relResult(statistic=4.29086974426947, pvalue=0.01273737148157454)\n",
      "WilcoxonResult(statistic=0.0, pvalue=0.0625)\n"
     ]
    }
   ],
   "source": [
    "print(\"===== SlateQ | WP10 =====\")\n",
    "sq_return = final_df.groupby([\"alg_name\", \"seed\"]).mean()[\"session_length\"][\"SlateQ\"].values\n",
    "wp_return = final_df.groupby([\"alg_name\", \"seed\"]).mean()[\"session_length\"][\"Slate-Wolpertinger 10%\"].values\n",
    "print(\"===== Return =====\")\n",
    "print(\"SlateQ\",sq_return.mean(), sq_return.std())\n",
    "print(\"WP\",wp_return.mean(), wp_return.std())\n",
    "stat_test(sq_return, wp_return)\n",
    "print(\"===== Cum satisfaction =====\")\n",
    "sq_cum_satisfaction = final_df.groupby([\"alg_name\", \"seed\"]).mean()[\"ep_cum_reward\"][\"SlateQ\"].values\n",
    "wp_cum_satisfaction = final_df.groupby([\"alg_name\", \"seed\"]).mean()[\"ep_cum_reward\"][\"Slate-Wolpertinger 10%\"].values\n",
    "print(\"SlateQ\",sq_cum_satisfaction.mean(), sq_cum_satisfaction.std())\n",
    "print(\"WP\",wp_cum_satisfaction.mean(), wp_cum_satisfaction.std())\n",
    "stat_test(sq_cum_satisfaction, wp_cum_satisfaction)\n",
    "print(\"===== Avg satisfaction =====\")\n",
    "sq_avg_satisfaction = final_df.groupby([\"alg_name\", \"seed\"]).mean()[\"ep_avg_reward\"][\"SlateQ\"].values\n",
    "wp_avg_satisfaction = final_df.groupby([\"alg_name\", \"seed\"]).mean()[\"ep_avg_reward\"][\"Slate-Wolpertinger 10%\"].values\n",
    "print(\"SlateQ\",sq_avg_satisfaction.mean(), sq_avg_satisfaction.std())\n",
    "print(\"WP\",wp_avg_satisfaction.mean(), sq_avg_satisfaction.std())\n",
    "stat_test(sq_avg_satisfaction, wp_avg_satisfaction)"
   ]
  },
  {
   "cell_type": "code",
   "execution_count": 25,
   "metadata": {},
   "outputs": [
    {
     "name": "stdout",
     "output_type": "stream",
     "text": [
      "===== SlateQ | WP5 =====\n",
      "===== Return =====\n",
      "SlateQ 247.35999999999999 2.2637866507248403\n",
      "WP 220.365 14.686274885075518\n",
      "LeveneResult(statistic=3.4706744654915185, pvalue=0.0994750623089661)\n",
      "ShapiroResult(statistic=0.8664183616638184, pvalue=0.25222185254096985)\n",
      "Ttest_relResult(statistic=3.9869971796225854, pvalue=0.01630568089689091)\n",
      "WilcoxonResult(statistic=0.0, pvalue=0.0625)\n",
      "===== Cum satisfaction =====\n",
      "SlateQ 42.994156853437424 2.2732131750562172\n",
      "WP 17.240114057302474 14.16579164408293\n",
      "LeveneResult(statistic=3.4653556089240296, pvalue=0.09969351573056447)\n",
      "ShapiroResult(statistic=0.8645584583282471, pvalue=0.24508187174797058)\n",
      "Ttest_relResult(statistic=3.959106480975237, pvalue=0.016690130200763213)\n",
      "WilcoxonResult(statistic=0.0, pvalue=0.0625)\n",
      "===== Avg satisfaction =====\n",
      "SlateQ 0.6475132667906582 0.04269675827454641\n",
      "WP 0.2426655572046293 0.04269675827454641\n",
      "LeveneResult(statistic=2.753107181598788, pvalue=0.13564876475325738)\n",
      "ShapiroResult(statistic=0.8323652744293213, pvalue=0.14489901065826416)\n",
      "Ttest_relResult(statistic=3.9975490559045985, pvalue=0.01616301310065332)\n",
      "WilcoxonResult(statistic=0.0, pvalue=0.0625)\n"
     ]
    }
   ],
   "source": [
    "print(\"===== SlateQ | WP5 =====\")\n",
    "sq_return = final_df.groupby([\"alg_name\", \"seed\"]).mean()[\"session_length\"][\"SlateQ\"].values\n",
    "wp_return = final_df.groupby([\"alg_name\", \"seed\"]).mean()[\"session_length\"][\"Slate-Wolpertinger 5%\"].values\n",
    "print(\"===== Return =====\")\n",
    "print(\"SlateQ\",sq_return.mean(), sq_return.std())\n",
    "print(\"WP\",wp_return.mean(), wp_return.std())\n",
    "stat_test(sq_return, wp_return)\n",
    "print(\"===== Cum satisfaction =====\")\n",
    "sq_cum_satisfaction = final_df.groupby([\"alg_name\", \"seed\"]).mean()[\"ep_cum_reward\"][\"SlateQ\"].values\n",
    "wp_cum_satisfaction = final_df.groupby([\"alg_name\", \"seed\"]).mean()[\"ep_cum_reward\"][\"Slate-Wolpertinger 5%\"].values\n",
    "print(\"SlateQ\",sq_cum_satisfaction.mean(), sq_cum_satisfaction.std())\n",
    "print(\"WP\",wp_cum_satisfaction.mean(), wp_cum_satisfaction.std())\n",
    "stat_test(sq_cum_satisfaction, wp_cum_satisfaction)\n",
    "print(\"===== Avg satisfaction =====\")\n",
    "sq_avg_satisfaction = final_df.groupby([\"alg_name\", \"seed\"]).mean()[\"ep_avg_reward\"][\"SlateQ\"].values\n",
    "wp_avg_satisfaction = final_df.groupby([\"alg_name\", \"seed\"]).mean()[\"ep_avg_reward\"][\"Slate-Wolpertinger 5%\"].values\n",
    "print(\"SlateQ\",sq_avg_satisfaction.mean(), sq_avg_satisfaction.std())\n",
    "print(\"WP\",wp_avg_satisfaction.mean(), sq_avg_satisfaction.std())\n",
    "stat_test(sq_avg_satisfaction, wp_avg_satisfaction)"
   ]
  },
  {
   "cell_type": "code",
   "execution_count": null,
   "metadata": {},
   "outputs": [],
   "source": []
  }
 ],
 "metadata": {
  "kernelspec": {
   "display_name": "Python 3.9.7 ('.venv': poetry)",
   "language": "python",
   "name": "python3"
  },
  "language_info": {
   "codemirror_mode": {
    "name": "ipython",
    "version": 3
   },
   "file_extension": ".py",
   "mimetype": "text/x-python",
   "name": "python",
   "nbconvert_exporter": "python",
   "pygments_lexer": "ipython3",
   "version": "3.9.7"
  },
  "orig_nbformat": 4,
  "vscode": {
   "interpreter": {
    "hash": "ace5c6500e4ed53786b45b2563799ed98d7d109434892245303149a18f98800f"
   }
  }
 },
 "nbformat": 4,
 "nbformat_minor": 2
}
