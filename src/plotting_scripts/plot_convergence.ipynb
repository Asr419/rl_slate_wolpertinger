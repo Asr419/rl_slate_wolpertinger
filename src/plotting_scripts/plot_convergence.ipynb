{
   "cells": [
      {
         "cell_type": "code",
         "execution_count": 1,
         "metadata": {},
         "outputs": [
            {
               "name": "stderr",
               "output_type": "stream",
               "text": [
                  "/home/aayush/.cache/pypoetry/virtualenvs/rl-recsys-jTURx9O2-py3.10/lib/python3.10/site-packages/tqdm/auto.py:21: TqdmWarning: IProgress not found. Please update jupyter and ipywidgets. See https://ipywidgets.readthedocs.io/en/stable/user_install.html\n",
                  "  from .autonotebook import tqdm as notebook_tqdm\n"
               ]
            }
         ],
         "source": [
            "import os \n",
            "from pathlib import Path\n",
            "from dotenv import load_dotenv\n",
            "import pickle\n",
            "import pandas as pd\n",
            "import torch\n",
            "from tqdm import tqdm\n",
            "import seaborn as sns"
         ]
      },
      {
         "cell_type": "code",
         "execution_count": 2,
         "metadata": {},
         "outputs": [
            {
               "data": {
                  "text/plain": [
                     "True"
                  ]
               },
               "execution_count": 2,
               "metadata": {},
               "output_type": "execute_result"
            }
         ],
         "source": [
            "load_dotenv()"
         ]
      },
      {
         "cell_type": "code",
         "execution_count": 3,
         "metadata": {},
         "outputs": [],
         "source": [
            "base_path = Path.home()/Path(os.environ.get(\"SAVE_PATH\"))"
         ]
      },
      {
         "cell_type": "code",
         "execution_count": 4,
         "metadata": {},
         "outputs": [],
         "source": [
            "# loading slateq results\n",
            "ALPHA = 0.25\n",
            "SEEDS = [5, 7, 46, 53, 77]\n",
            "window = 100"
         ]
      },
      {
         "cell_type": "code",
         "execution_count": 5,
         "metadata": {},
         "outputs": [],
         "source": [
            "def parse_data(data_dict: dict, alg_nam:str, seed: int)->pd.DataFrame:\n",
            "    # convert from torch to float\n",
            "    for k, v in data_dict.items():\n",
            "        if isinstance(v, torch.Tensor):\n",
            "            data_dict[k] = v.item()\n",
            "        elif isinstance(v, list):\n",
            "            if isinstance(v[0], torch.Tensor):\n",
            "                data_dict[k] = [x.item() for x in v]\n",
            "    data_df = pd.DataFrame(data_dict)\n",
            "    data_df[\"alg_name\"] = alg_nam\n",
            "    data_df[\"seed\"] = seed\n",
            "    data_df = data_df.reset_index().rename(columns={\"index\": \"episode\"})\n",
            "    data_df[\"ep_cum_satisfaction_rm_5\"] = data_df[\"ep_cum_satisfaction\"].rolling(window=5).mean()\n",
            "    data_df[\"ep_cum_satisfaction_rm_10\"] = data_df[\"ep_cum_satisfaction\"].rolling(window=10).mean()\n",
            "    data_df[\"ep_cum_satisfaction_rm_20\"] = data_df[\"ep_cum_satisfaction\"].rolling(window=20).mean()\n",
            "    data_df[\"ep_cum_satisfaction_rm_50\"] = data_df[\"ep_cum_satisfaction\"].rolling(window=50).mean()\n",
            "    data_df[\"ep_cum_satisfaction_rm_100\"] = data_df[\"ep_cum_satisfaction\"].rolling(window=100).mean()\n",
            "    \n",
            "    return data_df"
         ]
      },
      {
         "cell_type": "code",
         "execution_count": 6,
         "metadata": {},
         "outputs": [
            {
               "name": "stderr",
               "output_type": "stream",
               "text": [
                  "100%|██████████| 5/5 [00:30<00:00,  6.11s/it]\n"
               ]
            }
         ],
         "source": [
            "# load slateq results\n",
            "res_df_list = []\n",
            "for seed in tqdm(SEEDS):\n",
            "    slateq_dict = pickle.load(open(base_path / Path(f\"slateq_boredom_{ALPHA}_2000_{seed}\")/ \"logs_dict.pickle\", \"rb\"))\n",
            "    res_df = parse_data(slateq_dict, \"SlateQ\", seed)\n",
            "    res_df_list.append(res_df)\n",
            "# concat all results\n",
            "final_df = pd.concat(res_df_list)"
         ]
      },
      {
         "cell_type": "code",
         "execution_count": 7,
         "metadata": {},
         "outputs": [
            {
               "name": "stderr",
               "output_type": "stream",
               "text": [
                  "100%|██████████| 5/5 [00:45<00:00,  9.17s/it]\n"
               ]
            }
         ],
         "source": [
            "# load wp results\n",
            "res_df_list = []\n",
            "for seed in tqdm(SEEDS):\n",
            "    for knearest in [5]:\n",
            "        slateq_dict = pickle.load(open(base_path / Path(f\"proto_item_{knearest}_{ALPHA}_{seed}\")/ \"logs_dict.pickle\", \"rb\"))\n",
            "        res_df = parse_data(slateq_dict, f\"Proto-Item {knearest}%\", seed)\n",
            "        res_df_list.append(res_df)\n",
            "# concat all results\n",
            "wp_df = pd.concat(res_df_list)\n",
            "final_df = pd.concat([final_df, wp_df])"
         ]
      },
      {
         "cell_type": "code",
         "execution_count": 9,
         "metadata": {},
         "outputs": [
            {
               "name": "stderr",
               "output_type": "stream",
               "text": [
                  "100%|██████████| 5/5 [01:09<00:00, 13.84s/it]\n"
               ]
            }
         ],
         "source": [
            "# load wp results\n",
            "res_df_list = []\n",
            "for seed in tqdm(SEEDS):\n",
            "    for knearest in [20]:\n",
            "        slateq_dict = pickle.load(open(base_path / Path(f\"proto_slate_300_{knearest}_{ALPHA}_{seed}\")/ \"logs_dict.pickle\", \"rb\"))\n",
            "        res_df = parse_data(slateq_dict, f\"Proto-Slate {knearest}%\", seed)\n",
            "        res_df_list.append(res_df)\n",
            "# concat all results\n",
            "final_df = pd.concat(res_df_list)\n",
            "# wp_slate_df = pd.concat(res_df_list)\n",
            "# final_df = pd.concat([final_df, wp_slate_df])"
         ]
      },
      {
         "cell_type": "code",
         "execution_count": 8,
         "metadata": {},
         "outputs": [
            {
               "name": "stderr",
               "output_type": "stream",
               "text": [
                  "100%|██████████| 5/5 [02:06<00:00, 25.22s/it]\n"
               ]
            }
         ],
         "source": [
            "# # load wp results\n",
            "# res_df_list = []\n",
            "# for seed in tqdm(SEEDS):\n",
            "#     for knearest in [5, 10, 20]:\n",
            "#         slateq_dict = pickle.load(open(base_path / Path(f\"observed_topic_wa_{knearest}_slateq_{ALPHA}_{seed}\")/ \"logs_dict.pickle\", \"rb\"))\n",
            "#         res_df = parse_data(slateq_dict, f\"Slate-Wolpertinger {knearest}%\", seed)\n",
            "#         res_df_list.append(res_df)\n",
            "# # concat all results\n",
            "# wp_df = pd.concat(res_df_list)\n",
            "# final_df = pd.concat([final_df, wp_df])"
         ]
      },
      {
         "cell_type": "code",
         "execution_count": 10,
         "metadata": {},
         "outputs": [],
         "source": [
            "final_df = final_df.reset_index(drop=True)"
         ]
      },
      {
         "cell_type": "code",
         "execution_count": 11,
         "metadata": {},
         "outputs": [],
         "source": [
            "m = 100\n",
            "n = 50\n",
            "\n",
            "# apply rolling mean on ep_cum_satisfaction\n",
            "final_df[\"ep_cum_satisfaction_rm\"] = final_df.groupby(\"alg_name\")[\"ep_cum_satisfaction\"].transform(lambda x: x.rolling(m, 1).mean())\n",
            "# apply rolling mean on ep_cum_satisfaction\n",
            "final_df[\"ep_avg_satisfaction_rm\"] = final_df.groupby(\"alg_name\")[\"ep_avg_satisfaction\"].transform(lambda x: x.rolling(m, 1).mean())\n",
            "# apply rolling mean on ep_cum_satisfaction\n",
            "final_df[\"loss_rm\"] = final_df.groupby(\"alg_name\")[\"loss\"].transform(lambda x: x.rolling(m, 1).mean())\n",
            "\n",
            "# Create a new DataFrame that only contains every n-th row of the original DataFrame\n",
            "new_df = final_df[final_df['episode'] % n == 0]"
         ]
      },
      {
         "cell_type": "code",
         "execution_count": 12,
         "metadata": {},
         "outputs": [
            {
               "data": {
                  "image/png": "[encoded data removed]",
                  "text/plain": [
                     "<Figure size 425.073x276.297 with 1 Axes>"
                  ]
               },
               "metadata": {},
               "output_type": "display_data"
            }
         ],
         "source": [
            "import seaborn as sns\n",
            "import matplotlib.pyplot as plt\n",
            "import matplotlib.ticker as mtick\n",
            "from setup_plot import setup_plot\n",
            "\n",
            "setup_plot(font_size=8, w_pts=256, fig_ratio=0.65)\n",
            "\n",
            "# Set the plot style to \"ticks\"\n",
            "sns.set_style(\"whitegrid\", {\"grid.linestyle\": \"--\", \"axes.edgecolor\": \"black\"})\n",
            "\n",
            "# Plot the mean of ep_cum_satisfaction across different seeds for each alg_name\n",
            "ax = sns.lineplot(x=\"episode\", y=\"ep_cum_satisfaction_rm\", hue=\"alg_name\", errorbar=\"se\", data=new_df)\n",
            "\n",
            "legend = plt.legend(title='', fancybox=False)\n",
            "# legend.get_frame().set_alpha(None)\n",
            "\n",
            "# Set the x-axis tick format\n",
            "fmt = mtick.ScalarFormatter(useMathText=True)\n",
            "fmt.set_powerlimits((-3,3))\n",
            "ax.xaxis.set_major_formatter(fmt)\n",
            "\n",
            "# Add a title and axes labels\n",
            "plt.xlim(0, 10000)\n",
            "plt.xlabel(\"Episode\")\n",
            "plt.ylabel(\"Episode Cum. Satisfaction\", labelpad=0)\n",
            "plt.savefig(\"convergence_plot_2000.pdf\", format=\"pdf\", bbox_inches=\"tight\")\n",
            "plt.show()\n"
         ]
      },
      {
         "cell_type": "code",
         "execution_count": 59,
         "metadata": {},
         "outputs": [
            {
               "data": {
                  "text/plain": [
                     "Index(['episode', 'session_length', 'ep_cum_satisfaction',\n",
                     "       'ep_avg_satisfaction', 'loss', 'best_rl_avg_diff', 'best_avg_avg_diff',\n",
                     "       'cum_normalized', 'alg_name', 'seed', 'actor_loss',\n",
                     "       'ep_cum_satisfaction_rm', 'ep_avg_satisfaction_rm', 'loss_rm'],\n",
                     "      dtype='object')"
                  ]
               },
               "execution_count": 59,
               "metadata": {},
               "output_type": "execute_result"
            }
         ],
         "source": [
            "# hypothesis satisfied for paired t-test on sq and wp return\n",
            "from scipy.stats import ttest_rel\n",
            "ttest_rel(sq_return, wp_return)"
         ]
      },
      {
         "cell_type": "code",
         "execution_count": 14,
         "metadata": {},
         "outputs": [],
         "source": [
            "# compute wilcoxon signed rank test\n",
            "# from scipy.stats import wilcoxon\n",
            "# wilcoxon(sq_return, wp_return)"
         ]
      }
   ],
   "metadata": {
      "kernelspec": {
         "display_name": "Python 3.9.7 ('.venv': poetry)",
         "language": "python",
         "name": "python3"
      },
      "language_info": {
         "codemirror_mode": {
            "name": "ipython",
            "version": 3
         },
         "file_extension": ".py",
         "mimetype": "text/x-python",
         "name": "python",
         "nbconvert_exporter": "python",
         "pygments_lexer": "ipython3",
         "version": "3.10.7"
      },
      "orig_nbformat": 4,
      "vscode": {
         "interpreter": {
            "hash": "ace5c6500e4ed53786b45b2563799ed98d7d109434892245303149a18f98800f"
         }
      }
   },
   "nbformat": 4,
   "nbformat_minor": 2
}
