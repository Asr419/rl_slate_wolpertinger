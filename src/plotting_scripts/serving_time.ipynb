{
 "cells": [
  {
   "cell_type": "code",
   "execution_count": 27,
   "metadata": {},
   "outputs": [],
   "source": [
    "import matplotlib.pyplot as plt\n",
    "import seaborn as sns\n",
    "from matplotlib.pyplot import figure\n",
    "import pandas as pd\n",
    "import numpy as np\n",
    "import os\n",
    "from pathlib import Path\n",
    "import pandas as pd\n",
    "from dotenv import load_dotenv"
   ]
  },
  {
   "cell_type": "code",
   "execution_count": 28,
   "metadata": {},
   "outputs": [
    {
     "data": {
      "text/plain": [
       "True"
      ]
     },
     "execution_count": 28,
     "metadata": {},
     "output_type": "execute_result"
    }
   ],
   "source": [
    "load_dotenv()"
   ]
  },
  {
   "cell_type": "code",
   "execution_count": 29,
   "metadata": {},
   "outputs": [],
   "source": [
    "save_path = os.environ.get(\"SAVE_PATH\")\n",
    "BASE_LOAD_PATH = Path.home() / save_path\n",
    "slate_st = pd.read_csv(BASE_LOAD_PATH / \"serving_time_wp_slate.csv\")\n",
    "wp_st = pd.read_csv(BASE_LOAD_PATH / \"serving_time_wp.csv\")\n",
    "sq_st = pd.read_csv(BASE_LOAD_PATH / \"serving_time_slateq.csv\")"
   ]
  },
  {
   "cell_type": "code",
   "execution_count": 30,
   "metadata": {},
   "outputs": [],
   "source": [
    "res_df = pd.concat([wp_st, sq_st, slate_st])"
   ]
  },
  {
   "cell_type": "code",
   "execution_count": 31,
   "metadata": {},
   "outputs": [],
   "source": [
    "import re\n",
    "\n",
    "# define the pattern to match the string\n",
    "pattern = r'^WA-SlateQ-(\\d+)$'\n",
    "pattern1= r'^WA-Item-(\\d+)$'\n",
    "\n",
    "# define a function to replace the string\n",
    "def replace_string(string):\n",
    "    # check if the string matches the pattern\n",
    "    match = re.match(pattern, string)\n",
    "    match1= re.match(pattern1, string)\n",
    "    if match:\n",
    "        # extract the number from the pattern and add a percentage symbol\n",
    "        num = match.group(1)\n",
    "        new_string = 'Proto-Slate ' + num + '%'\n",
    "        return new_string\n",
    "    elif match1:\n",
    "        num = match1.group(1)\n",
    "        new_string = 'Proto-Item ' + num + '%'\n",
    "        return new_string\n",
    "    else:\n",
    "        # if the string does not match the pattern, return the original string\n",
    "        return string"
   ]
  },
  {
   "cell_type": "code",
   "execution_count": 32,
   "metadata": {},
   "outputs": [],
   "source": [
    "res_df[\"model_name\"] = res_df[\"model_name\"].apply(replace_string)\n"
   ]
  },
  {
   "cell_type": "code",
   "execution_count": 33,
   "metadata": {},
   "outputs": [],
   "source": [
    "res_df = res_df.reset_index(drop=True).sort_index(ascending=False)"
   ]
  },
  {
   "cell_type": "code",
   "execution_count": 34,
   "metadata": {},
   "outputs": [
    {
     "data": {
      "text/html": [
       "<div>\n",
       "<style scoped>\n",
       "    .dataframe tbody tr th:only-of-type {\n",
       "        vertical-align: middle;\n",
       "    }\n",
       "\n",
       "    .dataframe tbody tr th {\n",
       "        vertical-align: top;\n",
       "    }\n",
       "\n",
       "    .dataframe thead th {\n",
       "        text-align: right;\n",
       "    }\n",
       "</style>\n",
       "<table border=\"1\" class=\"dataframe\">\n",
       "  <thead>\n",
       "    <tr style=\"text-align: right;\">\n",
       "      <th></th>\n",
       "      <th>model_name</th>\n",
       "      <th>num_candidates</th>\n",
       "      <th>serving_time</th>\n",
       "    </tr>\n",
       "  </thead>\n",
       "  <tbody>\n",
       "    <tr>\n",
       "      <th>27</th>\n",
       "      <td>Proto-Slate 20%</td>\n",
       "      <td>300</td>\n",
       "      <td>0.017098</td>\n",
       "    </tr>\n",
       "    <tr>\n",
       "      <th>26</th>\n",
       "      <td>Proto-Slate 20%</td>\n",
       "      <td>500</td>\n",
       "      <td>0.017078</td>\n",
       "    </tr>\n",
       "    <tr>\n",
       "      <th>25</th>\n",
       "      <td>Proto-Slate 20%</td>\n",
       "      <td>1000</td>\n",
       "      <td>0.017349</td>\n",
       "    </tr>\n",
       "    <tr>\n",
       "      <th>24</th>\n",
       "      <td>Proto-Slate 20%</td>\n",
       "      <td>2000</td>\n",
       "      <td>0.015290</td>\n",
       "    </tr>\n",
       "    <tr>\n",
       "      <th>23</th>\n",
       "      <td>Proto-Slate 10%</td>\n",
       "      <td>300</td>\n",
       "      <td>0.009341</td>\n",
       "    </tr>\n",
       "    <tr>\n",
       "      <th>22</th>\n",
       "      <td>Proto-Slate 10%</td>\n",
       "      <td>500</td>\n",
       "      <td>0.008636</td>\n",
       "    </tr>\n",
       "    <tr>\n",
       "      <th>21</th>\n",
       "      <td>Proto-Slate 10%</td>\n",
       "      <td>1000</td>\n",
       "      <td>0.009470</td>\n",
       "    </tr>\n",
       "    <tr>\n",
       "      <th>20</th>\n",
       "      <td>Proto-Slate 10%</td>\n",
       "      <td>2000</td>\n",
       "      <td>0.009070</td>\n",
       "    </tr>\n",
       "    <tr>\n",
       "      <th>19</th>\n",
       "      <td>Proto-Slate 5%</td>\n",
       "      <td>300</td>\n",
       "      <td>0.005748</td>\n",
       "    </tr>\n",
       "    <tr>\n",
       "      <th>18</th>\n",
       "      <td>Proto-Slate 5%</td>\n",
       "      <td>500</td>\n",
       "      <td>0.005953</td>\n",
       "    </tr>\n",
       "    <tr>\n",
       "      <th>17</th>\n",
       "      <td>Proto-Slate 5%</td>\n",
       "      <td>1000</td>\n",
       "      <td>0.006218</td>\n",
       "    </tr>\n",
       "    <tr>\n",
       "      <th>16</th>\n",
       "      <td>Proto-Slate 5%</td>\n",
       "      <td>2000</td>\n",
       "      <td>0.007848</td>\n",
       "    </tr>\n",
       "    <tr>\n",
       "      <th>15</th>\n",
       "      <td>SlateQ</td>\n",
       "      <td>2000</td>\n",
       "      <td>0.441022</td>\n",
       "    </tr>\n",
       "    <tr>\n",
       "      <th>14</th>\n",
       "      <td>SlateQ</td>\n",
       "      <td>1000</td>\n",
       "      <td>0.224458</td>\n",
       "    </tr>\n",
       "    <tr>\n",
       "      <th>13</th>\n",
       "      <td>SlateQ</td>\n",
       "      <td>500</td>\n",
       "      <td>0.117524</td>\n",
       "    </tr>\n",
       "    <tr>\n",
       "      <th>12</th>\n",
       "      <td>SlateQ</td>\n",
       "      <td>300</td>\n",
       "      <td>0.065055</td>\n",
       "    </tr>\n",
       "    <tr>\n",
       "      <th>11</th>\n",
       "      <td>Proto-Item 20%</td>\n",
       "      <td>2000</td>\n",
       "      <td>0.047670</td>\n",
       "    </tr>\n",
       "    <tr>\n",
       "      <th>10</th>\n",
       "      <td>Proto-Item 20%</td>\n",
       "      <td>1000</td>\n",
       "      <td>0.009857</td>\n",
       "    </tr>\n",
       "    <tr>\n",
       "      <th>9</th>\n",
       "      <td>Proto-Item 20%</td>\n",
       "      <td>500</td>\n",
       "      <td>0.009765</td>\n",
       "    </tr>\n",
       "    <tr>\n",
       "      <th>8</th>\n",
       "      <td>Proto-Item 20%</td>\n",
       "      <td>300</td>\n",
       "      <td>0.009957</td>\n",
       "    </tr>\n",
       "    <tr>\n",
       "      <th>7</th>\n",
       "      <td>Proto-Item 10%</td>\n",
       "      <td>2000</td>\n",
       "      <td>0.068776</td>\n",
       "    </tr>\n",
       "    <tr>\n",
       "      <th>6</th>\n",
       "      <td>Proto-Item 10%</td>\n",
       "      <td>1000</td>\n",
       "      <td>0.005831</td>\n",
       "    </tr>\n",
       "    <tr>\n",
       "      <th>5</th>\n",
       "      <td>Proto-Item 10%</td>\n",
       "      <td>500</td>\n",
       "      <td>0.005795</td>\n",
       "    </tr>\n",
       "    <tr>\n",
       "      <th>4</th>\n",
       "      <td>Proto-Item 10%</td>\n",
       "      <td>300</td>\n",
       "      <td>0.006207</td>\n",
       "    </tr>\n",
       "    <tr>\n",
       "      <th>3</th>\n",
       "      <td>Proto-Item 5%</td>\n",
       "      <td>2000</td>\n",
       "      <td>0.068927</td>\n",
       "    </tr>\n",
       "    <tr>\n",
       "      <th>2</th>\n",
       "      <td>Proto-Item 5%</td>\n",
       "      <td>1000</td>\n",
       "      <td>0.004005</td>\n",
       "    </tr>\n",
       "    <tr>\n",
       "      <th>1</th>\n",
       "      <td>Proto-Item 5%</td>\n",
       "      <td>500</td>\n",
       "      <td>0.003777</td>\n",
       "    </tr>\n",
       "    <tr>\n",
       "      <th>0</th>\n",
       "      <td>Proto-Item 5%</td>\n",
       "      <td>300</td>\n",
       "      <td>0.004056</td>\n",
       "    </tr>\n",
       "  </tbody>\n",
       "</table>\n",
       "</div>"
      ],
      "text/plain": [
       "         model_name  num_candidates  serving_time\n",
       "27  Proto-Slate 20%             300      0.017098\n",
       "26  Proto-Slate 20%             500      0.017078\n",
       "25  Proto-Slate 20%            1000      0.017349\n",
       "24  Proto-Slate 20%            2000      0.015290\n",
       "23  Proto-Slate 10%             300      0.009341\n",
       "22  Proto-Slate 10%             500      0.008636\n",
       "21  Proto-Slate 10%            1000      0.009470\n",
       "20  Proto-Slate 10%            2000      0.009070\n",
       "19   Proto-Slate 5%             300      0.005748\n",
       "18   Proto-Slate 5%             500      0.005953\n",
       "17   Proto-Slate 5%            1000      0.006218\n",
       "16   Proto-Slate 5%            2000      0.007848\n",
       "15           SlateQ            2000      0.441022\n",
       "14           SlateQ            1000      0.224458\n",
       "13           SlateQ             500      0.117524\n",
       "12           SlateQ             300      0.065055\n",
       "11   Proto-Item 20%            2000      0.047670\n",
       "10   Proto-Item 20%            1000      0.009857\n",
       "9    Proto-Item 20%             500      0.009765\n",
       "8    Proto-Item 20%             300      0.009957\n",
       "7    Proto-Item 10%            2000      0.068776\n",
       "6    Proto-Item 10%            1000      0.005831\n",
       "5    Proto-Item 10%             500      0.005795\n",
       "4    Proto-Item 10%             300      0.006207\n",
       "3     Proto-Item 5%            2000      0.068927\n",
       "2     Proto-Item 5%            1000      0.004005\n",
       "1     Proto-Item 5%             500      0.003777\n",
       "0     Proto-Item 5%             300      0.004056"
      ]
     },
     "execution_count": 34,
     "metadata": {},
     "output_type": "execute_result"
    }
   ],
   "source": [
    "res_df"
   ]
  },
  {
   "cell_type": "code",
   "execution_count": 35,
   "metadata": {},
   "outputs": [],
   "source": [
    "from setup_plot import setup_plot\n",
    "setup_plot(font_size=8, w_pts=506*0.6, fig_ratio=0.5)"
   ]
  },
  {
   "cell_type": "code",
   "execution_count": 36,
   "metadata": {},
   "outputs": [],
   "source": [
    "sns.set_style(\"whitegrid\", {\"grid.linestyle\": \"--\", \"axes.edgecolor\": \"black\"})"
   ]
  },
  {
   "cell_type": "code",
   "execution_count": 37,
   "metadata": {},
   "outputs": [
    {
     "data": {
      "image/png": "[encoded data removed]",
      "text/plain": [
       "<Figure size 504.11x252.055 with 1 Axes>"
      ]
     },
     "metadata": {},
     "output_type": "display_data"
    }
   ],
   "source": [
    "sns.barplot(data=res_df, x=\"num_candidates\", y=\"serving_time\", hue=\"model_name\", hue_order=[\"Proto-Slate 20%\", \"Proto-Item 20%\", \"SlateQ\"], palette=[\"#2ca02c\", \"#ff7f0e\", \"#1f77b4\"])\n",
    "plt.ylabel(\"serving time (sec)\")\n",
    "plt.xlabel(\"number of candidates\")\n",
    "plt.legend(title=\"\")\n",
    "plt.savefig(\"./serving_time.pdf\", dpi=300, bbox_inches='tight')\n"
   ]
  },
  {
   "cell_type": "code",
   "execution_count": 38,
   "metadata": {},
   "outputs": [
    {
     "data": {
      "text/html": [
       "<div>\n",
       "<style scoped>\n",
       "    .dataframe tbody tr th:only-of-type {\n",
       "        vertical-align: middle;\n",
       "    }\n",
       "\n",
       "    .dataframe tbody tr th {\n",
       "        vertical-align: top;\n",
       "    }\n",
       "\n",
       "    .dataframe thead th {\n",
       "        text-align: right;\n",
       "    }\n",
       "</style>\n",
       "<table border=\"1\" class=\"dataframe\">\n",
       "  <thead>\n",
       "    <tr style=\"text-align: right;\">\n",
       "      <th></th>\n",
       "      <th>model_name</th>\n",
       "      <th>num_candidates</th>\n",
       "      <th>serving_time</th>\n",
       "    </tr>\n",
       "  </thead>\n",
       "  <tbody>\n",
       "  </tbody>\n",
       "</table>\n",
       "</div>"
      ],
      "text/plain": [
       "Empty DataFrame\n",
       "Columns: [model_name, num_candidates, serving_time]\n",
       "Index: []"
      ]
     },
     "execution_count": 38,
     "metadata": {},
     "output_type": "execute_result"
    }
   ],
   "source": [
    "res_df[(res_df[\"num_candidates\"] == 2000) & (res_df[\"model_name\"] == \"Slate-Wolpertinger 20%\")]"
   ]
  },
  {
   "cell_type": "code",
   "execution_count": 39,
   "metadata": {},
   "outputs": [
    {
     "data": {
      "text/html": [
       "<div>\n",
       "<style scoped>\n",
       "    .dataframe tbody tr th:only-of-type {\n",
       "        vertical-align: middle;\n",
       "    }\n",
       "\n",
       "    .dataframe tbody tr th {\n",
       "        vertical-align: top;\n",
       "    }\n",
       "\n",
       "    .dataframe thead th {\n",
       "        text-align: right;\n",
       "    }\n",
       "</style>\n",
       "<table border=\"1\" class=\"dataframe\">\n",
       "  <thead>\n",
       "    <tr style=\"text-align: right;\">\n",
       "      <th></th>\n",
       "      <th>model_name</th>\n",
       "      <th>num_candidates</th>\n",
       "      <th>serving_time</th>\n",
       "    </tr>\n",
       "  </thead>\n",
       "  <tbody>\n",
       "    <tr>\n",
       "      <th>15</th>\n",
       "      <td>SlateQ</td>\n",
       "      <td>2000</td>\n",
       "      <td>0.441022</td>\n",
       "    </tr>\n",
       "  </tbody>\n",
       "</table>\n",
       "</div>"
      ],
      "text/plain": [
       "   model_name  num_candidates  serving_time\n",
       "15     SlateQ            2000      0.441022"
      ]
     },
     "execution_count": 39,
     "metadata": {},
     "output_type": "execute_result"
    }
   ],
   "source": [
    "res_df[(res_df[\"num_candidates\"] == 2000) & (res_df[\"model_name\"] == \"SlateQ\")]"
   ]
  },
  {
   "cell_type": "code",
   "execution_count": 40,
   "metadata": {},
   "outputs": [
    {
     "data": {
      "text/plain": [
       "4.065441640209944"
      ]
     },
     "execution_count": 40,
     "metadata": {},
     "output_type": "execute_result"
    }
   ],
   "source": [
    "0.380318/0.093549"
   ]
  },
  {
   "cell_type": "code",
   "execution_count": null,
   "metadata": {},
   "outputs": [],
   "source": []
  }
 ],
 "metadata": {
  "kernelspec": {
   "display_name": "Python 3.9.7 ('.venv': poetry)",
   "language": "python",
   "name": "python3"
  },
  "language_info": {
   "codemirror_mode": {
    "name": "ipython",
    "version": 3
   },
   "file_extension": ".py",
   "mimetype": "text/x-python",
   "name": "python",
   "nbconvert_exporter": "python",
   "pygments_lexer": "ipython3",
   "version": "3.10.6"
  },
  "orig_nbformat": 4,
  "vscode": {
   "interpreter": {
    "hash": "ace5c6500e4ed53786b45b2563799ed98d7d109434892245303149a18f98800f"
   }
  }
 },
 "nbformat": 4,
 "nbformat_minor": 2
}
