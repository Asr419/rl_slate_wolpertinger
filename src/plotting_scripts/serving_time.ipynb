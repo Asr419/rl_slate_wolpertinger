{
 "cells": [
  {
   "cell_type": "code",
   "execution_count": 1,
   "metadata": {},
   "outputs": [],
   "source": [
    "import matplotlib.pyplot as plt\n",
    "import seaborn as sns\n",
    "from matplotlib.pyplot import figure\n",
    "import pandas as pd\n",
    "import numpy as np\n",
    "import os\n",
    "from pathlib import Path\n",
    "import pandas as pd\n",
    "from dotenv import load_dotenv"
   ]
  },
  {
   "cell_type": "code",
   "execution_count": 2,
   "metadata": {},
   "outputs": [
    {
     "data": {
      "text/plain": [
       "True"
      ]
     },
     "execution_count": 2,
     "metadata": {},
     "output_type": "execute_result"
    }
   ],
   "source": [
    "load_dotenv()"
   ]
  },
  {
   "cell_type": "code",
   "execution_count": 3,
   "metadata": {},
   "outputs": [],
   "source": [
    "save_path = os.environ.get(\"SAVE_PATH\")\n",
    "BASE_LOAD_PATH = Path.home() / save_path\n",
    "wp_st = pd.read_csv(BASE_LOAD_PATH / \"serving_time_wp.csv\")\n",
    "sq_st = pd.read_csv(BASE_LOAD_PATH / \"serving_time_slateq.csv\")"
   ]
  },
  {
   "cell_type": "code",
   "execution_count": 4,
   "metadata": {},
   "outputs": [],
   "source": [
    "res_df = pd.concat([wp_st, sq_st])"
   ]
  },
  {
   "cell_type": "code",
   "execution_count": 5,
   "metadata": {},
   "outputs": [],
   "source": [
    "import re\n",
    "\n",
    "# define the pattern to match the string\n",
    "pattern = r'^WA-SlateQ-(\\d+)$'\n",
    "\n",
    "# define a function to replace the string\n",
    "def replace_string(string):\n",
    "    # check if the string matches the pattern\n",
    "    match = re.match(pattern, string)\n",
    "    if match:\n",
    "        # extract the number from the pattern and add a percentage symbol\n",
    "        num = match.group(1)\n",
    "        new_string = 'SlateWolpertinger ' + num + '%'\n",
    "        return new_string\n",
    "    else:\n",
    "        # if the string does not match the pattern, return the original string\n",
    "        return string"
   ]
  },
  {
   "cell_type": "code",
   "execution_count": 6,
   "metadata": {},
   "outputs": [],
   "source": [
    "res_df[\"model_name\"] = res_df[\"model_name\"].apply(replace_string)"
   ]
  },
  {
   "cell_type": "code",
   "execution_count": 7,
   "metadata": {},
   "outputs": [],
   "source": [
    "res_df = res_df.reset_index(drop=True).sort_index(ascending=False)"
   ]
  },
  {
   "cell_type": "code",
   "execution_count": 8,
   "metadata": {},
   "outputs": [
    {
     "data": {
      "text/html": [
       "<div>\n",
       "<style scoped>\n",
       "    .dataframe tbody tr th:only-of-type {\n",
       "        vertical-align: middle;\n",
       "    }\n",
       "\n",
       "    .dataframe tbody tr th {\n",
       "        vertical-align: top;\n",
       "    }\n",
       "\n",
       "    .dataframe thead th {\n",
       "        text-align: right;\n",
       "    }\n",
       "</style>\n",
       "<table border=\"1\" class=\"dataframe\">\n",
       "  <thead>\n",
       "    <tr style=\"text-align: right;\">\n",
       "      <th></th>\n",
       "      <th>model_name</th>\n",
       "      <th>num_candidates</th>\n",
       "      <th>serving_time</th>\n",
       "    </tr>\n",
       "  </thead>\n",
       "  <tbody>\n",
       "    <tr>\n",
       "      <th>15</th>\n",
       "      <td>SlateQ</td>\n",
       "      <td>2000</td>\n",
       "      <td>0.380318</td>\n",
       "    </tr>\n",
       "    <tr>\n",
       "      <th>14</th>\n",
       "      <td>SlateQ</td>\n",
       "      <td>1000</td>\n",
       "      <td>0.185371</td>\n",
       "    </tr>\n",
       "    <tr>\n",
       "      <th>13</th>\n",
       "      <td>SlateQ</td>\n",
       "      <td>500</td>\n",
       "      <td>0.090081</td>\n",
       "    </tr>\n",
       "    <tr>\n",
       "      <th>12</th>\n",
       "      <td>SlateQ</td>\n",
       "      <td>300</td>\n",
       "      <td>0.061311</td>\n",
       "    </tr>\n",
       "    <tr>\n",
       "      <th>11</th>\n",
       "      <td>SlateWolpertinger 20%</td>\n",
       "      <td>2000</td>\n",
       "      <td>0.093549</td>\n",
       "    </tr>\n",
       "    <tr>\n",
       "      <th>10</th>\n",
       "      <td>SlateWolpertinger 20%</td>\n",
       "      <td>1000</td>\n",
       "      <td>0.044542</td>\n",
       "    </tr>\n",
       "    <tr>\n",
       "      <th>9</th>\n",
       "      <td>SlateWolpertinger 20%</td>\n",
       "      <td>500</td>\n",
       "      <td>0.018965</td>\n",
       "    </tr>\n",
       "    <tr>\n",
       "      <th>8</th>\n",
       "      <td>SlateWolpertinger 20%</td>\n",
       "      <td>300</td>\n",
       "      <td>0.012567</td>\n",
       "    </tr>\n",
       "    <tr>\n",
       "      <th>7</th>\n",
       "      <td>SlateWolpertinger 10%</td>\n",
       "      <td>2000</td>\n",
       "      <td>0.047475</td>\n",
       "    </tr>\n",
       "    <tr>\n",
       "      <th>6</th>\n",
       "      <td>SlateWolpertinger 10%</td>\n",
       "      <td>1000</td>\n",
       "      <td>0.018455</td>\n",
       "    </tr>\n",
       "    <tr>\n",
       "      <th>5</th>\n",
       "      <td>SlateWolpertinger 10%</td>\n",
       "      <td>500</td>\n",
       "      <td>0.009796</td>\n",
       "    </tr>\n",
       "    <tr>\n",
       "      <th>4</th>\n",
       "      <td>SlateWolpertinger 10%</td>\n",
       "      <td>300</td>\n",
       "      <td>0.006176</td>\n",
       "    </tr>\n",
       "    <tr>\n",
       "      <th>3</th>\n",
       "      <td>SlateWolpertinger 5%</td>\n",
       "      <td>2000</td>\n",
       "      <td>0.026495</td>\n",
       "    </tr>\n",
       "    <tr>\n",
       "      <th>2</th>\n",
       "      <td>SlateWolpertinger 5%</td>\n",
       "      <td>1000</td>\n",
       "      <td>0.010110</td>\n",
       "    </tr>\n",
       "    <tr>\n",
       "      <th>1</th>\n",
       "      <td>SlateWolpertinger 5%</td>\n",
       "      <td>500</td>\n",
       "      <td>0.005455</td>\n",
       "    </tr>\n",
       "    <tr>\n",
       "      <th>0</th>\n",
       "      <td>SlateWolpertinger 5%</td>\n",
       "      <td>300</td>\n",
       "      <td>0.003885</td>\n",
       "    </tr>\n",
       "  </tbody>\n",
       "</table>\n",
       "</div>"
      ],
      "text/plain": [
       "               model_name  num_candidates  serving_time\n",
       "15                 SlateQ            2000      0.380318\n",
       "14                 SlateQ            1000      0.185371\n",
       "13                 SlateQ             500      0.090081\n",
       "12                 SlateQ             300      0.061311\n",
       "11  SlateWolpertinger 20%            2000      0.093549\n",
       "10  SlateWolpertinger 20%            1000      0.044542\n",
       "9   SlateWolpertinger 20%             500      0.018965\n",
       "8   SlateWolpertinger 20%             300      0.012567\n",
       "7   SlateWolpertinger 10%            2000      0.047475\n",
       "6   SlateWolpertinger 10%            1000      0.018455\n",
       "5   SlateWolpertinger 10%             500      0.009796\n",
       "4   SlateWolpertinger 10%             300      0.006176\n",
       "3    SlateWolpertinger 5%            2000      0.026495\n",
       "2    SlateWolpertinger 5%            1000      0.010110\n",
       "1    SlateWolpertinger 5%             500      0.005455\n",
       "0    SlateWolpertinger 5%             300      0.003885"
      ]
     },
     "execution_count": 8,
     "metadata": {},
     "output_type": "execute_result"
    }
   ],
   "source": [
    "res_df"
   ]
  },
  {
   "cell_type": "code",
   "execution_count": 9,
   "metadata": {},
   "outputs": [],
   "source": [
    "from setup_plot import setup_plot\n",
    "setup_plot(font_size=8, w_pts=506*0.6, fig_ratio=0.5)"
   ]
  },
  {
   "cell_type": "code",
   "execution_count": 10,
   "metadata": {},
   "outputs": [],
   "source": [
    "sns.set_style(\"whitegrid\", {\"grid.linestyle\": \"--\", \"axes.edgecolor\": \"black\"})"
   ]
  },
  {
   "cell_type": "code",
   "execution_count": 14,
   "metadata": {},
   "outputs": [
    {
     "data": {
      "image/png": "[encoded data removed]",
      "text/plain": [
       "<Figure size 504.11x252.055 with 1 Axes>"
      ]
     },
     "metadata": {},
     "output_type": "display_data"
    }
   ],
   "source": [
    "sns.barplot(data=res_df, x=\"num_candidates\", y=\"serving_time\", hue=\"model_name\", hue_order=[\"SlateWolpertinger 5%\", \"SlateWolpertinger 10%\", \"SlateWolpertinger 20%\", \"SlateQ\"], palette=[\"#2ca02c\", \"#d62728\",\"#ff7f0e\", \"#1f77b4\"])\n",
    "plt.ylabel(\"serving time (sec)\")\n",
    "plt.xlabel(\"number of candidates\")\n",
    "plt.legend(title=\"\")\n",
    "plt.savefig(\"./serving_time.pdf\", dpi=300, bbox_inches='tight')\n"
   ]
  },
  {
   "cell_type": "code",
   "execution_count": 52,
   "metadata": {},
   "outputs": [
    {
     "data": {
      "text/html": [
       "<div>\n",
       "<style scoped>\n",
       "    .dataframe tbody tr th:only-of-type {\n",
       "        vertical-align: middle;\n",
       "    }\n",
       "\n",
       "    .dataframe tbody tr th {\n",
       "        vertical-align: top;\n",
       "    }\n",
       "\n",
       "    .dataframe thead th {\n",
       "        text-align: right;\n",
       "    }\n",
       "</style>\n",
       "<table border=\"1\" class=\"dataframe\">\n",
       "  <thead>\n",
       "    <tr style=\"text-align: right;\">\n",
       "      <th></th>\n",
       "      <th>model_name</th>\n",
       "      <th>num_candidates</th>\n",
       "      <th>serving_time</th>\n",
       "    </tr>\n",
       "  </thead>\n",
       "  <tbody>\n",
       "    <tr>\n",
       "      <th>11</th>\n",
       "      <td>Slate-Wolpertinger 20%</td>\n",
       "      <td>2000</td>\n",
       "      <td>0.093549</td>\n",
       "    </tr>\n",
       "  </tbody>\n",
       "</table>\n",
       "</div>"
      ],
      "text/plain": [
       "                model_name  num_candidates  serving_time\n",
       "11  Slate-Wolpertinger 20%            2000      0.093549"
      ]
     },
     "execution_count": 52,
     "metadata": {},
     "output_type": "execute_result"
    }
   ],
   "source": [
    "res_df[(res_df[\"num_candidates\"] == 2000) & (res_df[\"model_name\"] == \"Slate-Wolpertinger 20%\")]"
   ]
  },
  {
   "cell_type": "code",
   "execution_count": 53,
   "metadata": {},
   "outputs": [
    {
     "data": {
      "text/html": [
       "<div>\n",
       "<style scoped>\n",
       "    .dataframe tbody tr th:only-of-type {\n",
       "        vertical-align: middle;\n",
       "    }\n",
       "\n",
       "    .dataframe tbody tr th {\n",
       "        vertical-align: top;\n",
       "    }\n",
       "\n",
       "    .dataframe thead th {\n",
       "        text-align: right;\n",
       "    }\n",
       "</style>\n",
       "<table border=\"1\" class=\"dataframe\">\n",
       "  <thead>\n",
       "    <tr style=\"text-align: right;\">\n",
       "      <th></th>\n",
       "      <th>model_name</th>\n",
       "      <th>num_candidates</th>\n",
       "      <th>serving_time</th>\n",
       "    </tr>\n",
       "  </thead>\n",
       "  <tbody>\n",
       "    <tr>\n",
       "      <th>15</th>\n",
       "      <td>SlateQ</td>\n",
       "      <td>2000</td>\n",
       "      <td>0.380318</td>\n",
       "    </tr>\n",
       "  </tbody>\n",
       "</table>\n",
       "</div>"
      ],
      "text/plain": [
       "   model_name  num_candidates  serving_time\n",
       "15     SlateQ            2000      0.380318"
      ]
     },
     "execution_count": 53,
     "metadata": {},
     "output_type": "execute_result"
    }
   ],
   "source": [
    "res_df[(res_df[\"num_candidates\"] == 2000) & (res_df[\"model_name\"] == \"SlateQ\")]"
   ]
  },
  {
   "cell_type": "code",
   "execution_count": 54,
   "metadata": {},
   "outputs": [
    {
     "data": {
      "text/plain": [
       "4.065441640209944"
      ]
     },
     "execution_count": 54,
     "metadata": {},
     "output_type": "execute_result"
    }
   ],
   "source": [
    "0.380318/0.093549"
   ]
  },
  {
   "cell_type": "code",
   "execution_count": null,
   "metadata": {},
   "outputs": [],
   "source": []
  }
 ],
 "metadata": {
  "kernelspec": {
   "display_name": "Python 3.9.7 ('.venv': poetry)",
   "language": "python",
   "name": "python3"
  },
  "language_info": {
   "codemirror_mode": {
    "name": "ipython",
    "version": 3
   },
   "file_extension": ".py",
   "mimetype": "text/x-python",
   "name": "python",
   "nbconvert_exporter": "python",
   "pygments_lexer": "ipython3",
   "version": "3.9.7"
  },
  "orig_nbformat": 4,
  "vscode": {
   "interpreter": {
    "hash": "ace5c6500e4ed53786b45b2563799ed98d7d109434892245303149a18f98800f"
   }
  }
 },
 "nbformat": 4,
 "nbformat_minor": 2
}
